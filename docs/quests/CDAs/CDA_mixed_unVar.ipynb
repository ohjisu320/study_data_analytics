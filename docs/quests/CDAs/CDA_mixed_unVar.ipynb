{
  "nbformat": 4,
  "nbformat_minor": 0,
  "metadata": {
    "colab": {
      "provenance": [],
      "collapsed_sections": [
        "QwbJvByPXVAc",
        "RI4Lkv1dGUxf"
      ],
      "authorship_tag": "ABX9TyOCrD+JXfA1jMSgdwIwEU0Z",
      "include_colab_link": true
    },
    "kernelspec": {
      "name": "python3",
      "display_name": "Python 3"
    },
    "language_info": {
      "name": "python"
    }
  },
  "cells": [
    {
      "cell_type": "markdown",
      "metadata": {
        "id": "view-in-github",
        "colab_type": "text"
      },
      "source": [
        "<a href=\"https://colab.research.google.com/github/ohjisu320/study_data_analytics/blob/main/docs/quests/CDAs/CDA_mixed_unVar.ipynb\" target=\"_parent\"><img src=\"https://colab.research.google.com/assets/colab-badge.svg\" alt=\"Open In Colab\"/></a>"
      ]
    },
    {
      "cell_type": "markdown",
      "source": [
        "## 전처리 과정"
      ],
      "metadata": {
        "id": "B0WH3u83fma6"
      }
    },
    {
      "cell_type": "code",
      "source": [
        "!apt-get install -y fonts-nanum\n",
        "!fc-cache -fv\n",
        "!rm ~/.cache/matplotlib -rf"
      ],
      "metadata": {
        "colab": {
          "base_uri": "https://localhost:8080/"
        },
        "id": "nlVMwfkqeasB",
        "outputId": "459cf850-d0cd-44fa-a2fc-93da1917a066"
      },
      "execution_count": 1,
      "outputs": [
        {
          "output_type": "stream",
          "name": "stdout",
          "text": [
            "Reading package lists... Done\n",
            "Building dependency tree... Done\n",
            "Reading state information... Done\n",
            "The following NEW packages will be installed:\n",
            "  fonts-nanum\n",
            "0 upgraded, 1 newly installed, 0 to remove and 32 not upgraded.\n",
            "Need to get 10.3 MB of archives.\n",
            "After this operation, 34.1 MB of additional disk space will be used.\n",
            "Get:1 http://archive.ubuntu.com/ubuntu jammy/universe amd64 fonts-nanum all 20200506-1 [10.3 MB]\n",
            "Fetched 10.3 MB in 2s (5,826 kB/s)\n",
            "Selecting previously unselected package fonts-nanum.\n",
            "(Reading database ... 121747 files and directories currently installed.)\n",
            "Preparing to unpack .../fonts-nanum_20200506-1_all.deb ...\n",
            "Unpacking fonts-nanum (20200506-1) ...\n",
            "Setting up fonts-nanum (20200506-1) ...\n",
            "Processing triggers for fontconfig (2.13.1-4.2ubuntu5) ...\n",
            "/usr/share/fonts: caching, new cache contents: 0 fonts, 1 dirs\n",
            "/usr/share/fonts/truetype: caching, new cache contents: 0 fonts, 3 dirs\n",
            "/usr/share/fonts/truetype/humor-sans: caching, new cache contents: 1 fonts, 0 dirs\n",
            "/usr/share/fonts/truetype/liberation: caching, new cache contents: 16 fonts, 0 dirs\n",
            "/usr/share/fonts/truetype/nanum: caching, new cache contents: 12 fonts, 0 dirs\n",
            "/usr/local/share/fonts: caching, new cache contents: 0 fonts, 0 dirs\n",
            "/root/.local/share/fonts: skipping, no such directory\n",
            "/root/.fonts: skipping, no such directory\n",
            "/usr/share/fonts/truetype: skipping, looped directory detected\n",
            "/usr/share/fonts/truetype/humor-sans: skipping, looped directory detected\n",
            "/usr/share/fonts/truetype/liberation: skipping, looped directory detected\n",
            "/usr/share/fonts/truetype/nanum: skipping, looped directory detected\n",
            "/var/cache/fontconfig: cleaning cache directory\n",
            "/root/.cache/fontconfig: not cleaning non-existent cache directory\n",
            "/root/.fontconfig: not cleaning non-existent cache directory\n",
            "fc-cache: succeeded\n"
          ]
        }
      ]
    },
    {
      "cell_type": "code",
      "execution_count": 42,
      "metadata": {
        "id": "K7XhLhOkK8Zv"
      },
      "outputs": [],
      "source": [
        "import pandas as pd\n",
        "import scipy.stats as stats\n",
        "import matplotlib.pyplot as plt\n",
        "import matplotlib as mpl\n",
        "import seaborn as sns\n",
        "import scipy.stats as stats\n",
        "mpl.rc('font', family='NanumBarunGothic') # 혹은 다른 설치한 Nanum 폰트 사용"
      ]
    },
    {
      "cell_type": "code",
      "source": [
        "df_store = pd.read_csv('fruitstore_saleshistory.csv')"
      ],
      "metadata": {
        "id": "KPNzPHgkBlbr"
      },
      "execution_count": 64,
      "outputs": []
    },
    {
      "cell_type": "code",
      "source": [
        "df_store.columns"
      ],
      "metadata": {
        "colab": {
          "base_uri": "https://localhost:8080/"
        },
        "id": "qcq1zndHBtrd",
        "outputId": "a28e32aa-e3f7-440a-f57e-49b7955a10c3"
      },
      "execution_count": 44,
      "outputs": [
        {
          "output_type": "execute_result",
          "data": {
            "text/plain": [
              "Index(['공급일자', '요일', '공급월', '공급주차', '회원번호', '조합원상태', '물품대분류', '물품중분류', '물품소분류',\n",
              "       '물품명', '구매수량', '주소-구', '주소-동', '성별', '연령', '연령대', '구매금액', '구매매장',\n",
              "       '반품_원거래일자', '구매시각'],\n",
              "      dtype='object')"
            ]
          },
          "metadata": {},
          "execution_count": 44
        }
      ]
    },
    {
      "cell_type": "code",
      "source": [
        "df_store['구매시각'] = df_store['구매시각'].apply(lambda t: t.hour*3600 + t.minute*60 + t.second)"
      ],
      "metadata": {
        "id": "ozTJYSLcCX2t"
      },
      "execution_count": 71,
      "outputs": []
    },
    {
      "cell_type": "code",
      "source": [
        "df_store['구매시각'][:5]"
      ],
      "metadata": {
        "colab": {
          "base_uri": "https://localhost:8080/"
        },
        "id": "AUdyEue0ByHN",
        "outputId": "141bc7ed-232f-4de6-c0c7-cf1d3768c752"
      },
      "execution_count": 72,
      "outputs": [
        {
          "output_type": "execute_result",
          "data": {
            "text/plain": [
              "0    36240\n",
              "1    36300\n",
              "2    36300\n",
              "3    36480\n",
              "4    36540\n",
              "Name: 구매시각, dtype: int64"
            ]
          },
          "metadata": {},
          "execution_count": 72
        }
      ]
    },
    {
      "cell_type": "code",
      "source": [
        "df_store['요일'].unique()"
      ],
      "metadata": {
        "colab": {
          "base_uri": "https://localhost:8080/"
        },
        "id": "4T5XND_R8cHn",
        "outputId": "bb8d5b97-7e38-45ef-b084-2d884cfe3e34"
      },
      "execution_count": 47,
      "outputs": [
        {
          "output_type": "execute_result",
          "data": {
            "text/plain": [
              "array(['화', '수', '목', '금', '토', '일', '월'], dtype=object)"
            ]
          },
          "metadata": {},
          "execution_count": 47
        }
      ]
    },
    {
      "cell_type": "markdown",
      "source": [
        "## 예제 가설 : 요일(항목 7), 방문 시간(연속형)\n",
        "- 분석 내용: 요일(범주형)에 따른 방문 시간(연속형)의 차이가 있는지 분석\n",
        "  + 귀무가설: 차이가 없다\n",
        "  + 대립가설: 차이가 있다"
      ],
      "metadata": {
        "id": "QwbJvByPXVAc"
      }
    },
    {
      "cell_type": "markdown",
      "source": [
        "### 정규성 검증\n",
        "- 비정규분포임을 확인 -> 범주형이 7집단이니 kruskal test 시행\n"
      ],
      "metadata": {
        "id": "RI4Lkv1dGUxf"
      }
    },
    {
      "cell_type": "code",
      "source": [
        "# stats.anderson을 사용한 정규 분포 검정\n",
        "result = stats.anderson(df_store['구매시각'].dropna())\n",
        "print('Test Statistic: %.3f' % result.statistic)\n",
        "for i in range(len(result.critical_values)):\n",
        "    sl, cv = result.significance_level[i], result.critical_values[i]\n",
        "    if result.statistic < cv:\n",
        "        print('%.1f%% 수준에서 데이터는 정규 분포를 따름 (검정 통계량 %.3f < 임계값 %.3f)' % (sl, result.statistic, cv))\n",
        "    else:\n",
        "        print('%.1f%% 수준에서 데이터는 정규 분포를 따르지 않음 (검정 통계량 %.3f >= 임계값 %.3f)' % (sl, result.statistic, cv))"
      ],
      "metadata": {
        "colab": {
          "base_uri": "https://localhost:8080/"
        },
        "outputId": "e27a8fab-77bc-4ff6-d7c8-ae811d421b45",
        "id": "fKCrC3FTGUxf"
      },
      "execution_count": null,
      "outputs": [
        {
          "output_type": "stream",
          "name": "stdout",
          "text": [
            "Test Statistic: 7433.429\n",
            "15.0% 수준에서 데이터는 정규 분포를 따르지 않음 (검정 통계량 7433.429 >= 임계값 0.576)\n",
            "10.0% 수준에서 데이터는 정규 분포를 따르지 않음 (검정 통계량 7433.429 >= 임계값 0.656)\n",
            "5.0% 수준에서 데이터는 정규 분포를 따르지 않음 (검정 통계량 7433.429 >= 임계값 0.787)\n",
            "2.5% 수준에서 데이터는 정규 분포를 따르지 않음 (검정 통계량 7433.429 >= 임계값 0.918)\n",
            "1.0% 수준에서 데이터는 정규 분포를 따르지 않음 (검정 통계량 7433.429 >= 임계값 1.092)\n"
          ]
        }
      ]
    },
    {
      "cell_type": "code",
      "source": [
        "# 필요 항목 확인\n",
        "days_list = df_store['요일'].value_counts().index.to_list()\n",
        "days_list"
      ],
      "metadata": {
        "colab": {
          "base_uri": "https://localhost:8080/"
        },
        "outputId": "fd651e05-be06-4993-fdb4-4a7ba090bb04",
        "id": "svJ3_nxtGUxf"
      },
      "execution_count": null,
      "outputs": [
        {
          "output_type": "execute_result",
          "data": {
            "text/plain": [
              "['월', '화', '금', '수', '목', '토', '일']"
            ]
          },
          "metadata": {},
          "execution_count": 75
        }
      ]
    },
    {
      "cell_type": "code",
      "source": [
        "series_list = []\n",
        "for day in days_list :\n",
        "  condition = f\"요일 =='{day}'\"\n",
        "  series_time = df_store.query(condition)['구매시각'].dropna()\n",
        "  series_list.append(series_time)"
      ],
      "metadata": {
        "id": "lQmMMCy3GUxg"
      },
      "execution_count": null,
      "outputs": []
    },
    {
      "cell_type": "code",
      "source": [
        "len(series_list[0])"
      ],
      "metadata": {
        "colab": {
          "base_uri": "https://localhost:8080/"
        },
        "outputId": "018d2451-8140-45ce-c26f-f5034a509c01",
        "id": "B2DjXi16GUxg"
      },
      "execution_count": null,
      "outputs": [
        {
          "output_type": "execute_result",
          "data": {
            "text/plain": [
              "123802"
            ]
          },
          "metadata": {},
          "execution_count": 77
        }
      ]
    },
    {
      "cell_type": "code",
      "source": [
        "# 등분산 검증\n",
        "import scipy.stats as stats\n",
        "stats.kruskal(*series_list)"
      ],
      "metadata": {
        "colab": {
          "base_uri": "https://localhost:8080/"
        },
        "outputId": "9cdd4741-a50d-435c-aa4b-f26ab8b2bc61",
        "id": "pXCGa33zGUxg"
      },
      "execution_count": null,
      "outputs": [
        {
          "output_type": "execute_result",
          "data": {
            "text/plain": [
              "KruskalResult(statistic=5229.456099901222, pvalue=0.0)"
            ]
          },
          "metadata": {},
          "execution_count": 78
        }
      ]
    },
    {
      "cell_type": "markdown",
      "source": [
        "### 분석 결과\n",
        "- 통계 결론 : 대립가설이 채택: anderson을 이용한 정규성 검증을 통해 연속형 데이터인 구매시각이 비정규 분포임을 확인해, 범주형 3집단 이상일 시 시행하는 Kruskal test 시행. pvalue가 0.0으로 확인 됨.  \n",
        "- 사실 결론 : 요일에 따른 방문 시간의 차이가 있음."
      ],
      "metadata": {
        "id": "YTDV7m0wFjom"
      }
    },
    {
      "cell_type": "markdown",
      "source": [
        "## 예제 가설 : 지역(항목 15), 평균 구매 금액(연속형)\n",
        "- 분석 내용: 지역별 고객의 평균 구매 금액의 차이가 있는지 분석\n",
        "  + 귀무가설: 동일하다\n",
        "  + 대립가설: 동일하지 않다.(차이가 있다)"
      ],
      "metadata": {
        "id": "5BISMddeGUxT"
      }
    },
    {
      "cell_type": "code",
      "source": [
        "df_store['구매금액']"
      ],
      "metadata": {
        "colab": {
          "base_uri": "https://localhost:8080/"
        },
        "id": "5sroPHUfHm_6",
        "outputId": "4a02edf9-944b-478b-a10d-aceb75be1992"
      },
      "execution_count": 90,
      "outputs": [
        {
          "output_type": "execute_result",
          "data": {
            "text/plain": [
              "0         22207\n",
              "1          4977\n",
              "2          7083\n",
              "3           766\n",
              "4          4403\n",
              "          ...  \n",
              "705566     9189\n",
              "705567     5169\n",
              "705568     7466\n",
              "705569     3542\n",
              "705570     1914\n",
              "Name: 구매금액, Length: 705571, dtype: int64"
            ]
          },
          "metadata": {},
          "execution_count": 90
        }
      ]
    },
    {
      "cell_type": "code",
      "source": [
        "df_store = df_store.rename(columns={'주소-구': '주소_구'})\n",
        "df_store = df_store.rename(columns={'주소-동': '주소_동'})"
      ],
      "metadata": {
        "id": "BLonuQ7AIS5O"
      },
      "execution_count": 97,
      "outputs": []
    },
    {
      "cell_type": "markdown",
      "source": [
        "### 정규성 검정\n",
        "- 비정규분포임을 확인 -> 범주형이 15집단이니 kruskal test 시행\n"
      ],
      "metadata": {
        "id": "4MjWjohYYUe8"
      }
    },
    {
      "cell_type": "code",
      "source": [
        "# stats.anderson을 사용한 정규 분포 검정\n",
        "result = stats.anderson(df_store['구매금액'].dropna())\n",
        "print('Test Statistic: %.3f' % result.statistic)\n",
        "for i in range(len(result.critical_values)):\n",
        "    sl, cv = result.significance_level[i], result.critical_values[i]\n",
        "    if result.statistic < cv:\n",
        "        print('%.1f%% 수준에서 데이터는 정규 분포를 따름 (검정 통계량 %.3f < 임계값 %.3f)' % (sl, result.statistic, cv))\n",
        "    else:\n",
        "        print('%.1f%% 수준에서 데이터는 정규 분포를 따르지 않음 (검정 통계량 %.3f >= 임계값 %.3f)' % (sl, result.statistic, cv))"
      ],
      "metadata": {
        "colab": {
          "base_uri": "https://localhost:8080/"
        },
        "id": "6yRN3SYCBOr7",
        "outputId": "0a086965-f5c6-4a9f-a078-5778706fa19a"
      },
      "execution_count": 123,
      "outputs": [
        {
          "output_type": "stream",
          "name": "stdout",
          "text": [
            "Test Statistic: 80887.237\n",
            "15.0% 수준에서 데이터는 정규 분포를 따르지 않음 (검정 통계량 80887.237 >= 임계값 0.576)\n",
            "10.0% 수준에서 데이터는 정규 분포를 따르지 않음 (검정 통계량 80887.237 >= 임계값 0.656)\n",
            "5.0% 수준에서 데이터는 정규 분포를 따르지 않음 (검정 통계량 80887.237 >= 임계값 0.787)\n",
            "2.5% 수준에서 데이터는 정규 분포를 따르지 않음 (검정 통계량 80887.237 >= 임계값 0.918)\n",
            "1.0% 수준에서 데이터는 정규 분포를 따르지 않음 (검정 통계량 80887.237 >= 임계값 1.092)\n"
          ]
        }
      ]
    },
    {
      "cell_type": "code",
      "source": [
        "# 필요 항목 확인\n",
        "states_list = df_store['주소_구'].value_counts().index.to_list()\n",
        "states_list"
      ],
      "metadata": {
        "colab": {
          "base_uri": "https://localhost:8080/"
        },
        "id": "fmep-OLCYrxS",
        "outputId": "b9ff252d-4dcf-438a-d123-70802045d956"
      },
      "execution_count": 116,
      "outputs": [
        {
          "output_type": "execute_result",
          "data": {
            "text/plain": [
              "['수지구',\n",
              " '기타',\n",
              " '기흥구',\n",
              " '분당구',\n",
              " '수원 영통구',\n",
              " '서울 강남구',\n",
              " '서울 송파구',\n",
              " '처인구',\n",
              " '화성',\n",
              " '광주',\n",
              " '중원구',\n",
              " '수원 장안구',\n",
              " '수정구',\n",
              " '수원 팔달구',\n",
              " '하남',\n",
              " '수원 권선구']"
            ]
          },
          "metadata": {},
          "execution_count": 116
        }
      ]
    },
    {
      "cell_type": "code",
      "source": [
        "series_list = []\n",
        "for state in states_list :\n",
        "  condition = f\"주소_구 =='{state}'\"\n",
        "  series_purchase = df_store.query(condition)['구매금액'].dropna()\n",
        "  series_list.append(series_purchase)"
      ],
      "metadata": {
        "id": "JkfBlqX9W6eS"
      },
      "execution_count": 119,
      "outputs": []
    },
    {
      "cell_type": "code",
      "source": [
        "# 등분산 검증\n",
        "import scipy.stats as stats\n",
        "stats.kruskal(*series_list)"
      ],
      "metadata": {
        "colab": {
          "base_uri": "https://localhost:8080/"
        },
        "id": "q4Z5eg-WZyRl",
        "outputId": "2de5ac20-195b-4f7c-dd8a-b147d6b38574"
      },
      "execution_count": 121,
      "outputs": [
        {
          "output_type": "execute_result",
          "data": {
            "text/plain": [
              "KruskalResult(statistic=81.68134280443158, pvalue=3.436671774662079e-11)"
            ]
          },
          "metadata": {},
          "execution_count": 121
        }
      ]
    },
    {
      "cell_type": "code",
      "source": [
        "round(3.436671774662079e-11)"
      ],
      "metadata": {
        "colab": {
          "base_uri": "https://localhost:8080/"
        },
        "id": "AYT-EOq5KWnW",
        "outputId": "9b5cb63a-d7f3-410f-9153-c8f02855c4b8"
      },
      "execution_count": 122,
      "outputs": [
        {
          "output_type": "execute_result",
          "data": {
            "text/plain": [
              "0"
            ]
          },
          "metadata": {},
          "execution_count": 122
        }
      ]
    },
    {
      "cell_type": "code",
      "source": [
        "# 실제 값 확인\n",
        "import numpy as np\n",
        "\n",
        "df_store['주소_구'].value_counts()\n",
        "pivot_state = pd.pivot_table(data = df_store[['주소_구', '구매금액']].dropna()\n",
        "               , index='주소_구'\n",
        "               , values='구매금액'\n",
        "               , aggfunc=np.mean)\n",
        "pivot_state.reset_index(inplace=True)\n",
        "pivot_state.sort_values(by='구매금액', ascending=False)"
      ],
      "metadata": {
        "colab": {
          "base_uri": "https://localhost:8080/",
          "height": 551
        },
        "id": "vmeZj3ZsHSGV",
        "outputId": "d354ad42-cf52-40e1-aa24-a23a67284bd7"
      },
      "execution_count": 126,
      "outputs": [
        {
          "output_type": "execute_result",
          "data": {
            "text/plain": [
              "      주소_구          구매금액\n",
              "10     수정구  13010.338624\n",
              "15      화성  11791.748976\n",
              "13     처인구  11708.362209\n",
              "4   서울 강남구  11566.960517\n",
              "6   수원 권선구  11329.338384\n",
              "5   서울 송파구  11057.427613\n",
              "3      분당구  11055.815864\n",
              "12     중원구  11048.423575\n",
              "7   수원 영통구  10979.417175\n",
              "11     수지구  10913.668224\n",
              "2      기흥구  10875.840754\n",
              "1       기타  10799.106206\n",
              "0       광주  10593.867156\n",
              "8   수원 장안구  10463.104015\n",
              "14      하남   8755.693431\n",
              "9   수원 팔달구   8540.993569"
            ],
            "text/html": [
              "\n",
              "  <div id=\"df-6ccc510e-dc9b-400b-bd36-97aa5488e611\" class=\"colab-df-container\">\n",
              "    <div>\n",
              "<style scoped>\n",
              "    .dataframe tbody tr th:only-of-type {\n",
              "        vertical-align: middle;\n",
              "    }\n",
              "\n",
              "    .dataframe tbody tr th {\n",
              "        vertical-align: top;\n",
              "    }\n",
              "\n",
              "    .dataframe thead th {\n",
              "        text-align: right;\n",
              "    }\n",
              "</style>\n",
              "<table border=\"1\" class=\"dataframe\">\n",
              "  <thead>\n",
              "    <tr style=\"text-align: right;\">\n",
              "      <th></th>\n",
              "      <th>주소_구</th>\n",
              "      <th>구매금액</th>\n",
              "    </tr>\n",
              "  </thead>\n",
              "  <tbody>\n",
              "    <tr>\n",
              "      <th>10</th>\n",
              "      <td>수정구</td>\n",
              "      <td>13010.338624</td>\n",
              "    </tr>\n",
              "    <tr>\n",
              "      <th>15</th>\n",
              "      <td>화성</td>\n",
              "      <td>11791.748976</td>\n",
              "    </tr>\n",
              "    <tr>\n",
              "      <th>13</th>\n",
              "      <td>처인구</td>\n",
              "      <td>11708.362209</td>\n",
              "    </tr>\n",
              "    <tr>\n",
              "      <th>4</th>\n",
              "      <td>서울 강남구</td>\n",
              "      <td>11566.960517</td>\n",
              "    </tr>\n",
              "    <tr>\n",
              "      <th>6</th>\n",
              "      <td>수원 권선구</td>\n",
              "      <td>11329.338384</td>\n",
              "    </tr>\n",
              "    <tr>\n",
              "      <th>5</th>\n",
              "      <td>서울 송파구</td>\n",
              "      <td>11057.427613</td>\n",
              "    </tr>\n",
              "    <tr>\n",
              "      <th>3</th>\n",
              "      <td>분당구</td>\n",
              "      <td>11055.815864</td>\n",
              "    </tr>\n",
              "    <tr>\n",
              "      <th>12</th>\n",
              "      <td>중원구</td>\n",
              "      <td>11048.423575</td>\n",
              "    </tr>\n",
              "    <tr>\n",
              "      <th>7</th>\n",
              "      <td>수원 영통구</td>\n",
              "      <td>10979.417175</td>\n",
              "    </tr>\n",
              "    <tr>\n",
              "      <th>11</th>\n",
              "      <td>수지구</td>\n",
              "      <td>10913.668224</td>\n",
              "    </tr>\n",
              "    <tr>\n",
              "      <th>2</th>\n",
              "      <td>기흥구</td>\n",
              "      <td>10875.840754</td>\n",
              "    </tr>\n",
              "    <tr>\n",
              "      <th>1</th>\n",
              "      <td>기타</td>\n",
              "      <td>10799.106206</td>\n",
              "    </tr>\n",
              "    <tr>\n",
              "      <th>0</th>\n",
              "      <td>광주</td>\n",
              "      <td>10593.867156</td>\n",
              "    </tr>\n",
              "    <tr>\n",
              "      <th>8</th>\n",
              "      <td>수원 장안구</td>\n",
              "      <td>10463.104015</td>\n",
              "    </tr>\n",
              "    <tr>\n",
              "      <th>14</th>\n",
              "      <td>하남</td>\n",
              "      <td>8755.693431</td>\n",
              "    </tr>\n",
              "    <tr>\n",
              "      <th>9</th>\n",
              "      <td>수원 팔달구</td>\n",
              "      <td>8540.993569</td>\n",
              "    </tr>\n",
              "  </tbody>\n",
              "</table>\n",
              "</div>\n",
              "    <div class=\"colab-df-buttons\">\n",
              "\n",
              "  <div class=\"colab-df-container\">\n",
              "    <button class=\"colab-df-convert\" onclick=\"convertToInteractive('df-6ccc510e-dc9b-400b-bd36-97aa5488e611')\"\n",
              "            title=\"Convert this dataframe to an interactive table.\"\n",
              "            style=\"display:none;\">\n",
              "\n",
              "  <svg xmlns=\"http://www.w3.org/2000/svg\" height=\"24px\" viewBox=\"0 -960 960 960\">\n",
              "    <path d=\"M120-120v-720h720v720H120Zm60-500h600v-160H180v160Zm220 220h160v-160H400v160Zm0 220h160v-160H400v160ZM180-400h160v-160H180v160Zm440 0h160v-160H620v160ZM180-180h160v-160H180v160Zm440 0h160v-160H620v160Z\"/>\n",
              "  </svg>\n",
              "    </button>\n",
              "\n",
              "  <style>\n",
              "    .colab-df-container {\n",
              "      display:flex;\n",
              "      gap: 12px;\n",
              "    }\n",
              "\n",
              "    .colab-df-convert {\n",
              "      background-color: #E8F0FE;\n",
              "      border: none;\n",
              "      border-radius: 50%;\n",
              "      cursor: pointer;\n",
              "      display: none;\n",
              "      fill: #1967D2;\n",
              "      height: 32px;\n",
              "      padding: 0 0 0 0;\n",
              "      width: 32px;\n",
              "    }\n",
              "\n",
              "    .colab-df-convert:hover {\n",
              "      background-color: #E2EBFA;\n",
              "      box-shadow: 0px 1px 2px rgba(60, 64, 67, 0.3), 0px 1px 3px 1px rgba(60, 64, 67, 0.15);\n",
              "      fill: #174EA6;\n",
              "    }\n",
              "\n",
              "    .colab-df-buttons div {\n",
              "      margin-bottom: 4px;\n",
              "    }\n",
              "\n",
              "    [theme=dark] .colab-df-convert {\n",
              "      background-color: #3B4455;\n",
              "      fill: #D2E3FC;\n",
              "    }\n",
              "\n",
              "    [theme=dark] .colab-df-convert:hover {\n",
              "      background-color: #434B5C;\n",
              "      box-shadow: 0px 1px 3px 1px rgba(0, 0, 0, 0.15);\n",
              "      filter: drop-shadow(0px 1px 2px rgba(0, 0, 0, 0.3));\n",
              "      fill: #FFFFFF;\n",
              "    }\n",
              "  </style>\n",
              "\n",
              "    <script>\n",
              "      const buttonEl =\n",
              "        document.querySelector('#df-6ccc510e-dc9b-400b-bd36-97aa5488e611 button.colab-df-convert');\n",
              "      buttonEl.style.display =\n",
              "        google.colab.kernel.accessAllowed ? 'block' : 'none';\n",
              "\n",
              "      async function convertToInteractive(key) {\n",
              "        const element = document.querySelector('#df-6ccc510e-dc9b-400b-bd36-97aa5488e611');\n",
              "        const dataTable =\n",
              "          await google.colab.kernel.invokeFunction('convertToInteractive',\n",
              "                                                    [key], {});\n",
              "        if (!dataTable) return;\n",
              "\n",
              "        const docLinkHtml = 'Like what you see? Visit the ' +\n",
              "          '<a target=\"_blank\" href=https://colab.research.google.com/notebooks/data_table.ipynb>data table notebook</a>'\n",
              "          + ' to learn more about interactive tables.';\n",
              "        element.innerHTML = '';\n",
              "        dataTable['output_type'] = 'display_data';\n",
              "        await google.colab.output.renderOutput(dataTable, element);\n",
              "        const docLink = document.createElement('div');\n",
              "        docLink.innerHTML = docLinkHtml;\n",
              "        element.appendChild(docLink);\n",
              "      }\n",
              "    </script>\n",
              "  </div>\n",
              "\n",
              "\n",
              "<div id=\"df-34e3bc2d-159a-4774-b4c6-f11135dfe62a\">\n",
              "  <button class=\"colab-df-quickchart\" onclick=\"quickchart('df-34e3bc2d-159a-4774-b4c6-f11135dfe62a')\"\n",
              "            title=\"Suggest charts\"\n",
              "            style=\"display:none;\">\n",
              "\n",
              "<svg xmlns=\"http://www.w3.org/2000/svg\" height=\"24px\"viewBox=\"0 0 24 24\"\n",
              "     width=\"24px\">\n",
              "    <g>\n",
              "        <path d=\"M19 3H5c-1.1 0-2 .9-2 2v14c0 1.1.9 2 2 2h14c1.1 0 2-.9 2-2V5c0-1.1-.9-2-2-2zM9 17H7v-7h2v7zm4 0h-2V7h2v10zm4 0h-2v-4h2v4z\"/>\n",
              "    </g>\n",
              "</svg>\n",
              "  </button>\n",
              "\n",
              "<style>\n",
              "  .colab-df-quickchart {\n",
              "      --bg-color: #E8F0FE;\n",
              "      --fill-color: #1967D2;\n",
              "      --hover-bg-color: #E2EBFA;\n",
              "      --hover-fill-color: #174EA6;\n",
              "      --disabled-fill-color: #AAA;\n",
              "      --disabled-bg-color: #DDD;\n",
              "  }\n",
              "\n",
              "  [theme=dark] .colab-df-quickchart {\n",
              "      --bg-color: #3B4455;\n",
              "      --fill-color: #D2E3FC;\n",
              "      --hover-bg-color: #434B5C;\n",
              "      --hover-fill-color: #FFFFFF;\n",
              "      --disabled-bg-color: #3B4455;\n",
              "      --disabled-fill-color: #666;\n",
              "  }\n",
              "\n",
              "  .colab-df-quickchart {\n",
              "    background-color: var(--bg-color);\n",
              "    border: none;\n",
              "    border-radius: 50%;\n",
              "    cursor: pointer;\n",
              "    display: none;\n",
              "    fill: var(--fill-color);\n",
              "    height: 32px;\n",
              "    padding: 0;\n",
              "    width: 32px;\n",
              "  }\n",
              "\n",
              "  .colab-df-quickchart:hover {\n",
              "    background-color: var(--hover-bg-color);\n",
              "    box-shadow: 0 1px 2px rgba(60, 64, 67, 0.3), 0 1px 3px 1px rgba(60, 64, 67, 0.15);\n",
              "    fill: var(--button-hover-fill-color);\n",
              "  }\n",
              "\n",
              "  .colab-df-quickchart-complete:disabled,\n",
              "  .colab-df-quickchart-complete:disabled:hover {\n",
              "    background-color: var(--disabled-bg-color);\n",
              "    fill: var(--disabled-fill-color);\n",
              "    box-shadow: none;\n",
              "  }\n",
              "\n",
              "  .colab-df-spinner {\n",
              "    border: 2px solid var(--fill-color);\n",
              "    border-color: transparent;\n",
              "    border-bottom-color: var(--fill-color);\n",
              "    animation:\n",
              "      spin 1s steps(1) infinite;\n",
              "  }\n",
              "\n",
              "  @keyframes spin {\n",
              "    0% {\n",
              "      border-color: transparent;\n",
              "      border-bottom-color: var(--fill-color);\n",
              "      border-left-color: var(--fill-color);\n",
              "    }\n",
              "    20% {\n",
              "      border-color: transparent;\n",
              "      border-left-color: var(--fill-color);\n",
              "      border-top-color: var(--fill-color);\n",
              "    }\n",
              "    30% {\n",
              "      border-color: transparent;\n",
              "      border-left-color: var(--fill-color);\n",
              "      border-top-color: var(--fill-color);\n",
              "      border-right-color: var(--fill-color);\n",
              "    }\n",
              "    40% {\n",
              "      border-color: transparent;\n",
              "      border-right-color: var(--fill-color);\n",
              "      border-top-color: var(--fill-color);\n",
              "    }\n",
              "    60% {\n",
              "      border-color: transparent;\n",
              "      border-right-color: var(--fill-color);\n",
              "    }\n",
              "    80% {\n",
              "      border-color: transparent;\n",
              "      border-right-color: var(--fill-color);\n",
              "      border-bottom-color: var(--fill-color);\n",
              "    }\n",
              "    90% {\n",
              "      border-color: transparent;\n",
              "      border-bottom-color: var(--fill-color);\n",
              "    }\n",
              "  }\n",
              "</style>\n",
              "\n",
              "  <script>\n",
              "    async function quickchart(key) {\n",
              "      const quickchartButtonEl =\n",
              "        document.querySelector('#' + key + ' button');\n",
              "      quickchartButtonEl.disabled = true;  // To prevent multiple clicks.\n",
              "      quickchartButtonEl.classList.add('colab-df-spinner');\n",
              "      try {\n",
              "        const charts = await google.colab.kernel.invokeFunction(\n",
              "            'suggestCharts', [key], {});\n",
              "      } catch (error) {\n",
              "        console.error('Error during call to suggestCharts:', error);\n",
              "      }\n",
              "      quickchartButtonEl.classList.remove('colab-df-spinner');\n",
              "      quickchartButtonEl.classList.add('colab-df-quickchart-complete');\n",
              "    }\n",
              "    (() => {\n",
              "      let quickchartButtonEl =\n",
              "        document.querySelector('#df-34e3bc2d-159a-4774-b4c6-f11135dfe62a button');\n",
              "      quickchartButtonEl.style.display =\n",
              "        google.colab.kernel.accessAllowed ? 'block' : 'none';\n",
              "    })();\n",
              "  </script>\n",
              "</div>\n",
              "\n",
              "    </div>\n",
              "  </div>\n"
            ]
          },
          "metadata": {},
          "execution_count": 126
        }
      ]
    },
    {
      "cell_type": "markdown",
      "source": [
        "### 분석 결과\n",
        "- 통계 결론 : 대립가설이 채택: anderson을 이용한 정규성 검증을 통해 연속형 데이터인 구매금액이 비정규 분포임을 확인해, 범주형 3집단 이상일 시 시행하는 Kruskal test 시행. pvalue가 0.0으로 확인 됨.  \n",
        "- 사실 결론 : 지역별 고객의 평균 구매 금액이 동일하지 않음. 따라서 지역에 따라 평균 구매 금액이 달라짐"
      ],
      "metadata": {
        "id": "mJ-vKT9bHG8Y"
      }
    },
    {
      "cell_type": "code",
      "source": [],
      "metadata": {
        "id": "LXTnt-8uTqvy"
      },
      "execution_count": null,
      "outputs": []
    }
  ]
}