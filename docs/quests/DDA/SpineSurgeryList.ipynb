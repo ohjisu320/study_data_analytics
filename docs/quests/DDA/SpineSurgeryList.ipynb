{
  "nbformat": 4,
  "nbformat_minor": 0,
  "metadata": {
    "colab": {
      "provenance": [],
      "collapsed_sections": [
        "ZLc2SaUTUco6",
        "I4NklW4wLxAY"
      ],
      "authorship_tag": "ABX9TyN0epmnt+HSwxYMHnz0QgUU",
      "include_colab_link": true
    },
    "kernelspec": {
      "name": "python3",
      "display_name": "Python 3"
    },
    "language_info": {
      "name": "python"
    }
  },
  "cells": [
    {
      "cell_type": "markdown",
      "metadata": {
        "id": "view-in-github",
        "colab_type": "text"
      },
      "source": [
        "<a href=\"https://colab.research.google.com/github/ohjisu320/study_dataanalytics/blob/main/docs/quests/DDA/SpineSurgeryList.ipynb\" target=\"_parent\"><img src=\"https://colab.research.google.com/assets/colab-badge.svg\" alt=\"Open In Colab\"/></a>"
      ]
    },
    {
      "cell_type": "markdown",
      "source": [
        "## 전처리 과정 및 분석"
      ],
      "metadata": {
        "id": "ZLc2SaUTUco6"
      }
    },
    {
      "cell_type": "code",
      "execution_count": 1,
      "metadata": {
        "colab": {
          "base_uri": "https://localhost:8080/"
        },
        "id": "IxX4_I1-Egl6",
        "outputId": "25142dde-4c50-4d6d-c373-604a35d31826"
      },
      "outputs": [
        {
          "output_type": "stream",
          "name": "stdout",
          "text": [
            "Reading package lists... Done\n",
            "Building dependency tree... Done\n",
            "Reading state information... Done\n",
            "The following NEW packages will be installed:\n",
            "  fonts-nanum\n",
            "0 upgraded, 1 newly installed, 0 to remove and 31 not upgraded.\n",
            "Need to get 0 B/10.3 MB of archives.\n",
            "After this operation, 34.1 MB of additional disk space will be used.\n",
            "Selecting previously unselected package fonts-nanum.\n",
            "(Reading database ... 121671 files and directories currently installed.)\n",
            "Preparing to unpack .../fonts-nanum_20200506-1_all.deb ...\n",
            "Unpacking fonts-nanum (20200506-1) ...\n",
            "Setting up fonts-nanum (20200506-1) ...\n",
            "Processing triggers for fontconfig (2.13.1-4.2ubuntu5) ...\n",
            "/usr/share/fonts: caching, new cache contents: 0 fonts, 1 dirs\n",
            "/usr/share/fonts/truetype: caching, new cache contents: 0 fonts, 3 dirs\n",
            "/usr/share/fonts/truetype/humor-sans: caching, new cache contents: 1 fonts, 0 dirs\n",
            "/usr/share/fonts/truetype/liberation: caching, new cache contents: 16 fonts, 0 dirs\n",
            "/usr/share/fonts/truetype/nanum: caching, new cache contents: 12 fonts, 0 dirs\n",
            "/usr/local/share/fonts: caching, new cache contents: 0 fonts, 0 dirs\n",
            "/root/.local/share/fonts: skipping, no such directory\n",
            "/root/.fonts: skipping, no such directory\n",
            "/usr/share/fonts/truetype: skipping, looped directory detected\n",
            "/usr/share/fonts/truetype/humor-sans: skipping, looped directory detected\n",
            "/usr/share/fonts/truetype/liberation: skipping, looped directory detected\n",
            "/usr/share/fonts/truetype/nanum: skipping, looped directory detected\n",
            "/var/cache/fontconfig: cleaning cache directory\n",
            "/root/.cache/fontconfig: not cleaning non-existent cache directory\n",
            "/root/.fontconfig: not cleaning non-existent cache directory\n",
            "fc-cache: succeeded\n"
          ]
        }
      ],
      "source": [
        "# 한글 폰트 설치\n",
        "!apt-get install -y fonts-nanum\n",
        "!fc-cache -fv\n",
        "!rm ~/.cache/matplotlib -rf\n",
        "# 설치 후 colab 경우 Reuntime > Restart session 필요"
      ]
    },
    {
      "cell_type": "code",
      "source": [
        "import pandas as pd\n",
        "import matplotlib.pyplot as plt\n",
        "import matplotlib as mpl\n",
        "import seaborn as sns\n",
        "mpl.rc('font', family='NanumBarunGothic') # 혹은 다른 설치한 Nanum 폰트 사용"
      ],
      "metadata": {
        "id": "mzNGqASsEonJ"
      },
      "execution_count": 36,
      "outputs": []
    },
    {
      "cell_type": "code",
      "source": [
        "df_SSL = pd.read_csv('SpineSurgeryList.csv')"
      ],
      "metadata": {
        "id": "2x4hIUjqE1eI"
      },
      "execution_count": 2,
      "outputs": []
    },
    {
      "cell_type": "code",
      "source": [
        "df_SSL[:2]"
      ],
      "metadata": {
        "colab": {
          "base_uri": "https://localhost:8080/",
          "height": 211
        },
        "id": "ugZm31qqE8Hw",
        "outputId": "90061062-10e1-4444-89ca-26ff04a83235"
      },
      "execution_count": 3,
      "outputs": [
        {
          "output_type": "execute_result",
          "data": {
            "text/plain": [
              "   Unnamed: 0 환자ID  Large Lymphocyte  Location of herniation   ODI  가족력  \\\n",
              "0           0  1PT              22.8                       3  51.0  0.0   \n",
              "1           1  2PT              44.9                       4  26.0  0.0   \n",
              "\n",
              "   간질성폐질환  고혈압여부  과거수술횟수  당뇨여부  ...  Modic change    PI    PT  Seg Angle(raw)  \\\n",
              "0       0      0       0     0  ...             3  51.6  36.6            14.4   \n",
              "1       0      0       0     0  ...             0  40.8   7.2            17.8   \n",
              "\n",
              "   Vaccum disc   골밀도  디스크단면적  디스크위치  척추이동척도  척추전방위증  \n",
              "0            0 -1.01  2048.5      4    Down       0  \n",
              "1            0 -1.14  1753.1      4      Up       0  \n",
              "\n",
              "[2 rows x 52 columns]"
            ],
            "text/html": [
              "\n",
              "  <div id=\"df-ceb126f6-bb9c-480e-91bb-aef2508655a2\" class=\"colab-df-container\">\n",
              "    <div>\n",
              "<style scoped>\n",
              "    .dataframe tbody tr th:only-of-type {\n",
              "        vertical-align: middle;\n",
              "    }\n",
              "\n",
              "    .dataframe tbody tr th {\n",
              "        vertical-align: top;\n",
              "    }\n",
              "\n",
              "    .dataframe thead th {\n",
              "        text-align: right;\n",
              "    }\n",
              "</style>\n",
              "<table border=\"1\" class=\"dataframe\">\n",
              "  <thead>\n",
              "    <tr style=\"text-align: right;\">\n",
              "      <th></th>\n",
              "      <th>Unnamed: 0</th>\n",
              "      <th>환자ID</th>\n",
              "      <th>Large Lymphocyte</th>\n",
              "      <th>Location of herniation</th>\n",
              "      <th>ODI</th>\n",
              "      <th>가족력</th>\n",
              "      <th>간질성폐질환</th>\n",
              "      <th>고혈압여부</th>\n",
              "      <th>과거수술횟수</th>\n",
              "      <th>당뇨여부</th>\n",
              "      <th>...</th>\n",
              "      <th>Modic change</th>\n",
              "      <th>PI</th>\n",
              "      <th>PT</th>\n",
              "      <th>Seg Angle(raw)</th>\n",
              "      <th>Vaccum disc</th>\n",
              "      <th>골밀도</th>\n",
              "      <th>디스크단면적</th>\n",
              "      <th>디스크위치</th>\n",
              "      <th>척추이동척도</th>\n",
              "      <th>척추전방위증</th>\n",
              "    </tr>\n",
              "  </thead>\n",
              "  <tbody>\n",
              "    <tr>\n",
              "      <th>0</th>\n",
              "      <td>0</td>\n",
              "      <td>1PT</td>\n",
              "      <td>22.8</td>\n",
              "      <td>3</td>\n",
              "      <td>51.0</td>\n",
              "      <td>0.0</td>\n",
              "      <td>0</td>\n",
              "      <td>0</td>\n",
              "      <td>0</td>\n",
              "      <td>0</td>\n",
              "      <td>...</td>\n",
              "      <td>3</td>\n",
              "      <td>51.6</td>\n",
              "      <td>36.6</td>\n",
              "      <td>14.4</td>\n",
              "      <td>0</td>\n",
              "      <td>-1.01</td>\n",
              "      <td>2048.5</td>\n",
              "      <td>4</td>\n",
              "      <td>Down</td>\n",
              "      <td>0</td>\n",
              "    </tr>\n",
              "    <tr>\n",
              "      <th>1</th>\n",
              "      <td>1</td>\n",
              "      <td>2PT</td>\n",
              "      <td>44.9</td>\n",
              "      <td>4</td>\n",
              "      <td>26.0</td>\n",
              "      <td>0.0</td>\n",
              "      <td>0</td>\n",
              "      <td>0</td>\n",
              "      <td>0</td>\n",
              "      <td>0</td>\n",
              "      <td>...</td>\n",
              "      <td>0</td>\n",
              "      <td>40.8</td>\n",
              "      <td>7.2</td>\n",
              "      <td>17.8</td>\n",
              "      <td>0</td>\n",
              "      <td>-1.14</td>\n",
              "      <td>1753.1</td>\n",
              "      <td>4</td>\n",
              "      <td>Up</td>\n",
              "      <td>0</td>\n",
              "    </tr>\n",
              "  </tbody>\n",
              "</table>\n",
              "<p>2 rows × 52 columns</p>\n",
              "</div>\n",
              "    <div class=\"colab-df-buttons\">\n",
              "\n",
              "  <div class=\"colab-df-container\">\n",
              "    <button class=\"colab-df-convert\" onclick=\"convertToInteractive('df-ceb126f6-bb9c-480e-91bb-aef2508655a2')\"\n",
              "            title=\"Convert this dataframe to an interactive table.\"\n",
              "            style=\"display:none;\">\n",
              "\n",
              "  <svg xmlns=\"http://www.w3.org/2000/svg\" height=\"24px\" viewBox=\"0 -960 960 960\">\n",
              "    <path d=\"M120-120v-720h720v720H120Zm60-500h600v-160H180v160Zm220 220h160v-160H400v160Zm0 220h160v-160H400v160ZM180-400h160v-160H180v160Zm440 0h160v-160H620v160ZM180-180h160v-160H180v160Zm440 0h160v-160H620v160Z\"/>\n",
              "  </svg>\n",
              "    </button>\n",
              "\n",
              "  <style>\n",
              "    .colab-df-container {\n",
              "      display:flex;\n",
              "      gap: 12px;\n",
              "    }\n",
              "\n",
              "    .colab-df-convert {\n",
              "      background-color: #E8F0FE;\n",
              "      border: none;\n",
              "      border-radius: 50%;\n",
              "      cursor: pointer;\n",
              "      display: none;\n",
              "      fill: #1967D2;\n",
              "      height: 32px;\n",
              "      padding: 0 0 0 0;\n",
              "      width: 32px;\n",
              "    }\n",
              "\n",
              "    .colab-df-convert:hover {\n",
              "      background-color: #E2EBFA;\n",
              "      box-shadow: 0px 1px 2px rgba(60, 64, 67, 0.3), 0px 1px 3px 1px rgba(60, 64, 67, 0.15);\n",
              "      fill: #174EA6;\n",
              "    }\n",
              "\n",
              "    .colab-df-buttons div {\n",
              "      margin-bottom: 4px;\n",
              "    }\n",
              "\n",
              "    [theme=dark] .colab-df-convert {\n",
              "      background-color: #3B4455;\n",
              "      fill: #D2E3FC;\n",
              "    }\n",
              "\n",
              "    [theme=dark] .colab-df-convert:hover {\n",
              "      background-color: #434B5C;\n",
              "      box-shadow: 0px 1px 3px 1px rgba(0, 0, 0, 0.15);\n",
              "      filter: drop-shadow(0px 1px 2px rgba(0, 0, 0, 0.3));\n",
              "      fill: #FFFFFF;\n",
              "    }\n",
              "  </style>\n",
              "\n",
              "    <script>\n",
              "      const buttonEl =\n",
              "        document.querySelector('#df-ceb126f6-bb9c-480e-91bb-aef2508655a2 button.colab-df-convert');\n",
              "      buttonEl.style.display =\n",
              "        google.colab.kernel.accessAllowed ? 'block' : 'none';\n",
              "\n",
              "      async function convertToInteractive(key) {\n",
              "        const element = document.querySelector('#df-ceb126f6-bb9c-480e-91bb-aef2508655a2');\n",
              "        const dataTable =\n",
              "          await google.colab.kernel.invokeFunction('convertToInteractive',\n",
              "                                                    [key], {});\n",
              "        if (!dataTable) return;\n",
              "\n",
              "        const docLinkHtml = 'Like what you see? Visit the ' +\n",
              "          '<a target=\"_blank\" href=https://colab.research.google.com/notebooks/data_table.ipynb>data table notebook</a>'\n",
              "          + ' to learn more about interactive tables.';\n",
              "        element.innerHTML = '';\n",
              "        dataTable['output_type'] = 'display_data';\n",
              "        await google.colab.output.renderOutput(dataTable, element);\n",
              "        const docLink = document.createElement('div');\n",
              "        docLink.innerHTML = docLinkHtml;\n",
              "        element.appendChild(docLink);\n",
              "      }\n",
              "    </script>\n",
              "  </div>\n",
              "\n",
              "\n",
              "<div id=\"df-d94b6f63-7c4b-4cf9-87e2-9474a6e66c2f\">\n",
              "  <button class=\"colab-df-quickchart\" onclick=\"quickchart('df-d94b6f63-7c4b-4cf9-87e2-9474a6e66c2f')\"\n",
              "            title=\"Suggest charts\"\n",
              "            style=\"display:none;\">\n",
              "\n",
              "<svg xmlns=\"http://www.w3.org/2000/svg\" height=\"24px\"viewBox=\"0 0 24 24\"\n",
              "     width=\"24px\">\n",
              "    <g>\n",
              "        <path d=\"M19 3H5c-1.1 0-2 .9-2 2v14c0 1.1.9 2 2 2h14c1.1 0 2-.9 2-2V5c0-1.1-.9-2-2-2zM9 17H7v-7h2v7zm4 0h-2V7h2v10zm4 0h-2v-4h2v4z\"/>\n",
              "    </g>\n",
              "</svg>\n",
              "  </button>\n",
              "\n",
              "<style>\n",
              "  .colab-df-quickchart {\n",
              "      --bg-color: #E8F0FE;\n",
              "      --fill-color: #1967D2;\n",
              "      --hover-bg-color: #E2EBFA;\n",
              "      --hover-fill-color: #174EA6;\n",
              "      --disabled-fill-color: #AAA;\n",
              "      --disabled-bg-color: #DDD;\n",
              "  }\n",
              "\n",
              "  [theme=dark] .colab-df-quickchart {\n",
              "      --bg-color: #3B4455;\n",
              "      --fill-color: #D2E3FC;\n",
              "      --hover-bg-color: #434B5C;\n",
              "      --hover-fill-color: #FFFFFF;\n",
              "      --disabled-bg-color: #3B4455;\n",
              "      --disabled-fill-color: #666;\n",
              "  }\n",
              "\n",
              "  .colab-df-quickchart {\n",
              "    background-color: var(--bg-color);\n",
              "    border: none;\n",
              "    border-radius: 50%;\n",
              "    cursor: pointer;\n",
              "    display: none;\n",
              "    fill: var(--fill-color);\n",
              "    height: 32px;\n",
              "    padding: 0;\n",
              "    width: 32px;\n",
              "  }\n",
              "\n",
              "  .colab-df-quickchart:hover {\n",
              "    background-color: var(--hover-bg-color);\n",
              "    box-shadow: 0 1px 2px rgba(60, 64, 67, 0.3), 0 1px 3px 1px rgba(60, 64, 67, 0.15);\n",
              "    fill: var(--button-hover-fill-color);\n",
              "  }\n",
              "\n",
              "  .colab-df-quickchart-complete:disabled,\n",
              "  .colab-df-quickchart-complete:disabled:hover {\n",
              "    background-color: var(--disabled-bg-color);\n",
              "    fill: var(--disabled-fill-color);\n",
              "    box-shadow: none;\n",
              "  }\n",
              "\n",
              "  .colab-df-spinner {\n",
              "    border: 2px solid var(--fill-color);\n",
              "    border-color: transparent;\n",
              "    border-bottom-color: var(--fill-color);\n",
              "    animation:\n",
              "      spin 1s steps(1) infinite;\n",
              "  }\n",
              "\n",
              "  @keyframes spin {\n",
              "    0% {\n",
              "      border-color: transparent;\n",
              "      border-bottom-color: var(--fill-color);\n",
              "      border-left-color: var(--fill-color);\n",
              "    }\n",
              "    20% {\n",
              "      border-color: transparent;\n",
              "      border-left-color: var(--fill-color);\n",
              "      border-top-color: var(--fill-color);\n",
              "    }\n",
              "    30% {\n",
              "      border-color: transparent;\n",
              "      border-left-color: var(--fill-color);\n",
              "      border-top-color: var(--fill-color);\n",
              "      border-right-color: var(--fill-color);\n",
              "    }\n",
              "    40% {\n",
              "      border-color: transparent;\n",
              "      border-right-color: var(--fill-color);\n",
              "      border-top-color: var(--fill-color);\n",
              "    }\n",
              "    60% {\n",
              "      border-color: transparent;\n",
              "      border-right-color: var(--fill-color);\n",
              "    }\n",
              "    80% {\n",
              "      border-color: transparent;\n",
              "      border-right-color: var(--fill-color);\n",
              "      border-bottom-color: var(--fill-color);\n",
              "    }\n",
              "    90% {\n",
              "      border-color: transparent;\n",
              "      border-bottom-color: var(--fill-color);\n",
              "    }\n",
              "  }\n",
              "</style>\n",
              "\n",
              "  <script>\n",
              "    async function quickchart(key) {\n",
              "      const quickchartButtonEl =\n",
              "        document.querySelector('#' + key + ' button');\n",
              "      quickchartButtonEl.disabled = true;  // To prevent multiple clicks.\n",
              "      quickchartButtonEl.classList.add('colab-df-spinner');\n",
              "      try {\n",
              "        const charts = await google.colab.kernel.invokeFunction(\n",
              "            'suggestCharts', [key], {});\n",
              "      } catch (error) {\n",
              "        console.error('Error during call to suggestCharts:', error);\n",
              "      }\n",
              "      quickchartButtonEl.classList.remove('colab-df-spinner');\n",
              "      quickchartButtonEl.classList.add('colab-df-quickchart-complete');\n",
              "    }\n",
              "    (() => {\n",
              "      let quickchartButtonEl =\n",
              "        document.querySelector('#df-d94b6f63-7c4b-4cf9-87e2-9474a6e66c2f button');\n",
              "      quickchartButtonEl.style.display =\n",
              "        google.colab.kernel.accessAllowed ? 'block' : 'none';\n",
              "    })();\n",
              "  </script>\n",
              "</div>\n",
              "\n",
              "    </div>\n",
              "  </div>\n"
            ]
          },
          "metadata": {},
          "execution_count": 3
        }
      ]
    },
    {
      "cell_type": "code",
      "source": [
        "df_SSL.columns"
      ],
      "metadata": {
        "colab": {
          "base_uri": "https://localhost:8080/"
        },
        "id": "DhFuSOWGE9pA",
        "outputId": "94153c0c-ca82-4b36-9981-1b489be1f851"
      },
      "execution_count": 4,
      "outputs": [
        {
          "output_type": "execute_result",
          "data": {
            "text/plain": [
              "Index(['Unnamed: 0', '환자ID', 'Large Lymphocyte', 'Location of herniation',\n",
              "       'ODI', '가족력', '간질성폐질환', '고혈압여부', '과거수술횟수', '당뇨여부', '말초동맥질환여부', '빈혈여부',\n",
              "       '성별', '스테로이드치료', '신부전여부', '신장', '심혈관질환', '암발병여부', '연령', '우울증여부', '입원기간',\n",
              "       '입원일자', '종양진행여부', '직업', '체중', '퇴원일자', '헤모글로빈수치', '혈전합병증여부', '환자통증정도',\n",
              "       '흡연여부', '통증기간(월)', '수술기법', '수술시간', '수술실패여부', '수술일자', '재발여부', '혈액형',\n",
              "       '전방디스크높이(mm)', '후방디스크높이(mm)', '지방축적도', 'Instability', 'MF + ES',\n",
              "       'Modic change', 'PI', 'PT', 'Seg Angle(raw)', 'Vaccum disc', '골밀도',\n",
              "       '디스크단면적', '디스크위치', '척추이동척도', '척추전방위증'],\n",
              "      dtype='object')"
            ]
          },
          "metadata": {},
          "execution_count": 4
        }
      ]
    },
    {
      "cell_type": "code",
      "source": [
        "df_SSL['입원일자']"
      ],
      "metadata": {
        "colab": {
          "base_uri": "https://localhost:8080/"
        },
        "id": "--29oJNmFAmo",
        "outputId": "41f04653-5e03-499c-eb7b-1ff0208a99a2"
      },
      "execution_count": 5,
      "outputs": [
        {
          "output_type": "execute_result",
          "data": {
            "text/plain": [
              "0       20190713\n",
              "1       20190715\n",
              "2       20190729\n",
              "3       20190731\n",
              "4       20190903\n",
              "          ...   \n",
              "1889    20170407\n",
              "1890    20170426\n",
              "1891    20170410\n",
              "1892    20170408\n",
              "1893    20170412\n",
              "Name: 입원일자, Length: 1894, dtype: int64"
            ]
          },
          "metadata": {},
          "execution_count": 5
        }
      ]
    },
    {
      "cell_type": "code",
      "source": [
        "df_SSL.info()"
      ],
      "metadata": {
        "colab": {
          "base_uri": "https://localhost:8080/"
        },
        "id": "jJutNc6hFZsR",
        "outputId": "147affe6-f364-40eb-f81e-492fbceb75f6"
      },
      "execution_count": 8,
      "outputs": [
        {
          "output_type": "stream",
          "name": "stdout",
          "text": [
            "<class 'pandas.core.frame.DataFrame'>\n",
            "RangeIndex: 1894 entries, 0 to 1893\n",
            "Data columns (total 52 columns):\n",
            " #   Column                  Non-Null Count  Dtype  \n",
            "---  ------                  --------------  -----  \n",
            " 0   Unnamed: 0              1894 non-null   int64  \n",
            " 1   환자ID                    1894 non-null   object \n",
            " 2   Large Lymphocyte        1894 non-null   float64\n",
            " 3   Location of herniation  1894 non-null   int64  \n",
            " 4   ODI                     462 non-null    float64\n",
            " 5   가족력                     1843 non-null   float64\n",
            " 6   간질성폐질환                  1894 non-null   int64  \n",
            " 7   고혈압여부                   1894 non-null   int64  \n",
            " 8   과거수술횟수                  1894 non-null   int64  \n",
            " 9   당뇨여부                    1894 non-null   int64  \n",
            " 10  말초동맥질환여부                1894 non-null   int64  \n",
            " 11  빈혈여부                    1894 non-null   int64  \n",
            " 12  성별                      1894 non-null   int64  \n",
            " 13  스테로이드치료                 1894 non-null   int64  \n",
            " 14  신부전여부                   1894 non-null   int64  \n",
            " 15  신장                      1894 non-null   int64  \n",
            " 16  심혈관질환                   1894 non-null   int64  \n",
            " 17  암발병여부                   1894 non-null   int64  \n",
            " 18  연령                      1894 non-null   int64  \n",
            " 19  우울증여부                   1894 non-null   int64  \n",
            " 20  입원기간                    1894 non-null   int64  \n",
            " 21  입원일자                    1894 non-null   int64  \n",
            " 22  종양진행여부                  1894 non-null   int64  \n",
            " 23  직업                      1479 non-null   object \n",
            " 24  체중                      1894 non-null   float64\n",
            " 25  퇴원일자                    1894 non-null   int64  \n",
            " 26  헤모글로빈수치                 1893 non-null   float64\n",
            " 27  혈전합병증여부                 1894 non-null   int64  \n",
            " 28  환자통증정도                  1894 non-null   int64  \n",
            " 29  흡연여부                    1894 non-null   int64  \n",
            " 30  통증기간(월)                 1890 non-null   float64\n",
            " 31  수술기법                    1813 non-null   object \n",
            " 32  수술시간                    1840 non-null   float64\n",
            " 33  수술실패여부                  1894 non-null   int64  \n",
            " 34  수술일자                    1894 non-null   int64  \n",
            " 35  재발여부                    1894 non-null   int64  \n",
            " 36  혈액형                     1894 non-null   object \n",
            " 37  전방디스크높이(mm)             1894 non-null   float64\n",
            " 38  후방디스크높이(mm)             1894 non-null   float64\n",
            " 39  지방축적도                   1891 non-null   float64\n",
            " 40  Instability             1894 non-null   int64  \n",
            " 41  MF + ES                 1894 non-null   float64\n",
            " 42  Modic change            1894 non-null   int64  \n",
            " 43  PI                      1890 non-null   float64\n",
            " 44  PT                      1890 non-null   float64\n",
            " 45  Seg Angle(raw)          1893 non-null   float64\n",
            " 46  Vaccum disc             1894 non-null   int64  \n",
            " 47  골밀도                     998 non-null    float64\n",
            " 48  디스크단면적                  1893 non-null   float64\n",
            " 49  디스크위치                   1894 non-null   int64  \n",
            " 50  척추이동척도                  1894 non-null   object \n",
            " 51  척추전방위증                  1894 non-null   int64  \n",
            "dtypes: float64(16), int64(31), object(5)\n",
            "memory usage: 769.6+ KB\n"
          ]
        }
      ]
    },
    {
      "cell_type": "markdown",
      "source": [
        "## Quests"
      ],
      "metadata": {
        "id": "E8yccHJXUh9o"
      }
    },
    {
      "cell_type": "markdown",
      "source": [
        "### 입원기간 분석\n",
        "- 가장 빠른 퇴원 : 0days(-값은 이상치로 판단)\n",
        "- 오랜 입원 기간 : 1125 days"
      ],
      "metadata": {
        "id": "I4NklW4wLxAY"
      }
    },
    {
      "cell_type": "code",
      "source": [
        "# datetime으로 변경 및 입원기간 연산\n",
        "df_SSL['입원일자_datetime'] = pd.to_datetime(df_SSL['입원일자'], format = '%Y%m%d')\n",
        "df_SSL['퇴원일자_datetime'] = pd.to_datetime(df_SSL['퇴원일자'], format = '%Y%m%d')\n",
        "df_SSL['입원기간_datetime'] = df_SSL['퇴원일자_datetime']- df_SSL['입원일자_datetime']"
      ],
      "metadata": {
        "id": "xQQNvDvfFHw6"
      },
      "execution_count": 142,
      "outputs": []
    },
    {
      "cell_type": "code",
      "source": [
        "df_SSL['입원기간_datetime'].describe()"
      ],
      "metadata": {
        "colab": {
          "base_uri": "https://localhost:8080/"
        },
        "id": "WTU0PgUoLiRI",
        "outputId": "f3b298c5-c8e0-4513-fc8a-103af038477d"
      },
      "execution_count": 73,
      "outputs": [
        {
          "output_type": "execute_result",
          "data": {
            "text/plain": [
              "count                           1894\n",
              "mean     -9 days +02:51:03.991552271\n",
              "std      151 days 08:06:59.355943068\n",
              "min             -2155 days +00:00:00\n",
              "25%                  1 days 00:00:00\n",
              "50%                  2 days 00:00:00\n",
              "75%                  3 days 00:00:00\n",
              "max               1125 days 00:00:00\n",
              "Name: 입원기간_datetime, dtype: object"
            ]
          },
          "metadata": {},
          "execution_count": 73
        }
      ]
    },
    {
      "cell_type": "code",
      "source": [
        "df_SSL['입원기간_datetime'].unique()"
      ],
      "metadata": {
        "colab": {
          "base_uri": "https://localhost:8080/"
        },
        "id": "T6ipk0ViLqCy",
        "outputId": "9ec2cf29-5099-4a17-a5d6-b2e12e8718f0"
      },
      "execution_count": 74,
      "outputs": [
        {
          "output_type": "execute_result",
          "data": {
            "text/plain": [
              "array([    259200000000000,      86400000000000,     345600000000000,\n",
              "           172800000000000,     432000000000000,                   0,\n",
              "           691200000000000,    8726400000000000,     950400000000000,\n",
              "          1296000000000000,     864000000000000,   18748800000000000,\n",
              "       -177897600000000000, -126489600000000000,  -87177600000000000,\n",
              "        -89683200000000000,    8467200000000000,   21081600000000000,\n",
              "        -74995200000000000,  -77846400000000000, -168566400000000000,\n",
              "        -85795200000000000,   -7344000000000000, -166320000000000000,\n",
              "          2505600000000000,    -518400000000000,   14947200000000000,\n",
              "        -90633600000000000,   65404800000000000,  -33091200000000000,\n",
              "       -158025600000000000,    4320000000000000,  -15638400000000000,\n",
              "         97200000000000000, -163036800000000000,    5616000000000000,\n",
              "         15292800000000000,   22377600000000000,   -3715200000000000,\n",
              "        -63072000000000000, -182822400000000000,  -69379200000000000,\n",
              "        -51840000000000000,    7948800000000000, -186192000000000000,\n",
              "         27475200000000000,  -31968000000000000,   58233600000000000,\n",
              "         34387200000000000,  -47174400000000000, -137894400000000000,\n",
              "         13996800000000000,  -40694400000000000,    2678400000000000,\n",
              "          4752000000000000,     518400000000000,     604800000000000,\n",
              "          5011200000000000,    1728000000000000,    1209600000000000,\n",
              "          1900800000000000,    1036800000000000,    5443200000000000,\n",
              "           777600000000000,    1123200000000000,    7344000000000000,\n",
              "          3888000000000000,    2332800000000000,    1382400000000000,\n",
              "          3974400000000000,    1641600000000000,    2851200000000000,\n",
              "          1468800000000000,    1555200000000000,    6134400000000000],\n",
              "      dtype='timedelta64[ns]')"
            ]
          },
          "metadata": {},
          "execution_count": 74
        }
      ]
    },
    {
      "cell_type": "markdown",
      "source": [
        "### 오랜 입원 일자 중 5위까지 시각화"
      ],
      "metadata": {
        "id": "UqPFqdImL8sv"
      }
    },
    {
      "cell_type": "code",
      "source": [
        "df_SSL.sort_values(by='입원기간_datetime', ascending=False).iloc[:5]\n"
      ],
      "metadata": {
        "id": "7VSGsFk-Gpbq"
      },
      "execution_count": 80,
      "outputs": []
    },
    {
      "cell_type": "code",
      "source": [
        "df_sorted = df_SSL.sort_values(by='입원기간_datetime', ascending=False).iloc[:5]"
      ],
      "metadata": {
        "id": "r0ysMdANGqkJ"
      },
      "execution_count": 85,
      "outputs": []
    },
    {
      "cell_type": "code",
      "source": [
        "df_SSL.sort_values(by='입원기간_datetime', ascending=False).iloc[:5]"
      ],
      "metadata": {
        "colab": {
          "base_uri": "https://localhost:8080/",
          "height": 342
        },
        "id": "AZ1AHVvYNui4",
        "outputId": "bb18364a-4f0b-4ed9-e57a-559199c1688b"
      },
      "execution_count": 102,
      "outputs": [
        {
          "output_type": "execute_result",
          "data": {
            "text/plain": [
              "      Unnamed: 0    환자ID  Large Lymphocyte  Location of herniation   ODI  가족력  \\\n",
              "1019        1019  1020PT              61.7                       3  21.0  1.0   \n",
              "1014        1014  1015PT              48.8                       2  24.0  0.0   \n",
              "1033        1033  1034PT              52.3                       3  27.0  0.0   \n",
              "1034        1034  1035PT              34.9                       3   NaN  0.0   \n",
              "1031        1031  1032PT              46.2                       3  31.0  0.0   \n",
              "\n",
              "      간질성폐질환  고혈압여부  과거수술횟수  당뇨여부  ...  디스크위치  척추이동척도  척추전방위증  입원일자_datetime  \\\n",
              "1019       0      0       0     0  ...      4    Down       0     2009-01-30   \n",
              "1014       0      0       0     0  ...      5    Down       0     2010-02-02   \n",
              "1033       0      0       2     0  ...      4    Down       0     2010-04-26   \n",
              "1034       0      0       0     0  ...      3    Down       0     2011-01-27   \n",
              "1031       0      0       0     0  ...      3  Middle       0     2011-04-17   \n",
              "\n",
              "      퇴원일자_datetime  입원기간_datetime  수술일자_datetime  수술일자_datetime_year  \\\n",
              "1019     2012-02-29      1125 days     2009-01-30                2009   \n",
              "1014     2012-02-29       757 days     2010-02-03                2010   \n",
              "1033     2012-02-29       674 days     2010-04-26                2010   \n",
              "1034     2012-02-29       398 days     2011-01-27                2011   \n",
              "1031     2012-02-29       318 days     2011-04-18                2011   \n",
              "\n",
              "      수술일자_datetime_month  수술일자_datetime_day  \n",
              "1019                    1                 30  \n",
              "1014                    2                  3  \n",
              "1033                    4                 26  \n",
              "1034                    1                 27  \n",
              "1031                    4                 18  \n",
              "\n",
              "[5 rows x 59 columns]"
            ],
            "text/html": [
              "\n",
              "  <div id=\"df-d6995685-e1d8-462d-a680-9bfa472c174e\" class=\"colab-df-container\">\n",
              "    <div>\n",
              "<style scoped>\n",
              "    .dataframe tbody tr th:only-of-type {\n",
              "        vertical-align: middle;\n",
              "    }\n",
              "\n",
              "    .dataframe tbody tr th {\n",
              "        vertical-align: top;\n",
              "    }\n",
              "\n",
              "    .dataframe thead th {\n",
              "        text-align: right;\n",
              "    }\n",
              "</style>\n",
              "<table border=\"1\" class=\"dataframe\">\n",
              "  <thead>\n",
              "    <tr style=\"text-align: right;\">\n",
              "      <th></th>\n",
              "      <th>Unnamed: 0</th>\n",
              "      <th>환자ID</th>\n",
              "      <th>Large Lymphocyte</th>\n",
              "      <th>Location of herniation</th>\n",
              "      <th>ODI</th>\n",
              "      <th>가족력</th>\n",
              "      <th>간질성폐질환</th>\n",
              "      <th>고혈압여부</th>\n",
              "      <th>과거수술횟수</th>\n",
              "      <th>당뇨여부</th>\n",
              "      <th>...</th>\n",
              "      <th>디스크위치</th>\n",
              "      <th>척추이동척도</th>\n",
              "      <th>척추전방위증</th>\n",
              "      <th>입원일자_datetime</th>\n",
              "      <th>퇴원일자_datetime</th>\n",
              "      <th>입원기간_datetime</th>\n",
              "      <th>수술일자_datetime</th>\n",
              "      <th>수술일자_datetime_year</th>\n",
              "      <th>수술일자_datetime_month</th>\n",
              "      <th>수술일자_datetime_day</th>\n",
              "    </tr>\n",
              "  </thead>\n",
              "  <tbody>\n",
              "    <tr>\n",
              "      <th>1019</th>\n",
              "      <td>1019</td>\n",
              "      <td>1020PT</td>\n",
              "      <td>61.7</td>\n",
              "      <td>3</td>\n",
              "      <td>21.0</td>\n",
              "      <td>1.0</td>\n",
              "      <td>0</td>\n",
              "      <td>0</td>\n",
              "      <td>0</td>\n",
              "      <td>0</td>\n",
              "      <td>...</td>\n",
              "      <td>4</td>\n",
              "      <td>Down</td>\n",
              "      <td>0</td>\n",
              "      <td>2009-01-30</td>\n",
              "      <td>2012-02-29</td>\n",
              "      <td>1125 days</td>\n",
              "      <td>2009-01-30</td>\n",
              "      <td>2009</td>\n",
              "      <td>1</td>\n",
              "      <td>30</td>\n",
              "    </tr>\n",
              "    <tr>\n",
              "      <th>1014</th>\n",
              "      <td>1014</td>\n",
              "      <td>1015PT</td>\n",
              "      <td>48.8</td>\n",
              "      <td>2</td>\n",
              "      <td>24.0</td>\n",
              "      <td>0.0</td>\n",
              "      <td>0</td>\n",
              "      <td>0</td>\n",
              "      <td>0</td>\n",
              "      <td>0</td>\n",
              "      <td>...</td>\n",
              "      <td>5</td>\n",
              "      <td>Down</td>\n",
              "      <td>0</td>\n",
              "      <td>2010-02-02</td>\n",
              "      <td>2012-02-29</td>\n",
              "      <td>757 days</td>\n",
              "      <td>2010-02-03</td>\n",
              "      <td>2010</td>\n",
              "      <td>2</td>\n",
              "      <td>3</td>\n",
              "    </tr>\n",
              "    <tr>\n",
              "      <th>1033</th>\n",
              "      <td>1033</td>\n",
              "      <td>1034PT</td>\n",
              "      <td>52.3</td>\n",
              "      <td>3</td>\n",
              "      <td>27.0</td>\n",
              "      <td>0.0</td>\n",
              "      <td>0</td>\n",
              "      <td>0</td>\n",
              "      <td>2</td>\n",
              "      <td>0</td>\n",
              "      <td>...</td>\n",
              "      <td>4</td>\n",
              "      <td>Down</td>\n",
              "      <td>0</td>\n",
              "      <td>2010-04-26</td>\n",
              "      <td>2012-02-29</td>\n",
              "      <td>674 days</td>\n",
              "      <td>2010-04-26</td>\n",
              "      <td>2010</td>\n",
              "      <td>4</td>\n",
              "      <td>26</td>\n",
              "    </tr>\n",
              "    <tr>\n",
              "      <th>1034</th>\n",
              "      <td>1034</td>\n",
              "      <td>1035PT</td>\n",
              "      <td>34.9</td>\n",
              "      <td>3</td>\n",
              "      <td>NaN</td>\n",
              "      <td>0.0</td>\n",
              "      <td>0</td>\n",
              "      <td>0</td>\n",
              "      <td>0</td>\n",
              "      <td>0</td>\n",
              "      <td>...</td>\n",
              "      <td>3</td>\n",
              "      <td>Down</td>\n",
              "      <td>0</td>\n",
              "      <td>2011-01-27</td>\n",
              "      <td>2012-02-29</td>\n",
              "      <td>398 days</td>\n",
              "      <td>2011-01-27</td>\n",
              "      <td>2011</td>\n",
              "      <td>1</td>\n",
              "      <td>27</td>\n",
              "    </tr>\n",
              "    <tr>\n",
              "      <th>1031</th>\n",
              "      <td>1031</td>\n",
              "      <td>1032PT</td>\n",
              "      <td>46.2</td>\n",
              "      <td>3</td>\n",
              "      <td>31.0</td>\n",
              "      <td>0.0</td>\n",
              "      <td>0</td>\n",
              "      <td>0</td>\n",
              "      <td>0</td>\n",
              "      <td>0</td>\n",
              "      <td>...</td>\n",
              "      <td>3</td>\n",
              "      <td>Middle</td>\n",
              "      <td>0</td>\n",
              "      <td>2011-04-17</td>\n",
              "      <td>2012-02-29</td>\n",
              "      <td>318 days</td>\n",
              "      <td>2011-04-18</td>\n",
              "      <td>2011</td>\n",
              "      <td>4</td>\n",
              "      <td>18</td>\n",
              "    </tr>\n",
              "  </tbody>\n",
              "</table>\n",
              "<p>5 rows × 59 columns</p>\n",
              "</div>\n",
              "    <div class=\"colab-df-buttons\">\n",
              "\n",
              "  <div class=\"colab-df-container\">\n",
              "    <button class=\"colab-df-convert\" onclick=\"convertToInteractive('df-d6995685-e1d8-462d-a680-9bfa472c174e')\"\n",
              "            title=\"Convert this dataframe to an interactive table.\"\n",
              "            style=\"display:none;\">\n",
              "\n",
              "  <svg xmlns=\"http://www.w3.org/2000/svg\" height=\"24px\" viewBox=\"0 -960 960 960\">\n",
              "    <path d=\"M120-120v-720h720v720H120Zm60-500h600v-160H180v160Zm220 220h160v-160H400v160Zm0 220h160v-160H400v160ZM180-400h160v-160H180v160Zm440 0h160v-160H620v160ZM180-180h160v-160H180v160Zm440 0h160v-160H620v160Z\"/>\n",
              "  </svg>\n",
              "    </button>\n",
              "\n",
              "  <style>\n",
              "    .colab-df-container {\n",
              "      display:flex;\n",
              "      gap: 12px;\n",
              "    }\n",
              "\n",
              "    .colab-df-convert {\n",
              "      background-color: #E8F0FE;\n",
              "      border: none;\n",
              "      border-radius: 50%;\n",
              "      cursor: pointer;\n",
              "      display: none;\n",
              "      fill: #1967D2;\n",
              "      height: 32px;\n",
              "      padding: 0 0 0 0;\n",
              "      width: 32px;\n",
              "    }\n",
              "\n",
              "    .colab-df-convert:hover {\n",
              "      background-color: #E2EBFA;\n",
              "      box-shadow: 0px 1px 2px rgba(60, 64, 67, 0.3), 0px 1px 3px 1px rgba(60, 64, 67, 0.15);\n",
              "      fill: #174EA6;\n",
              "    }\n",
              "\n",
              "    .colab-df-buttons div {\n",
              "      margin-bottom: 4px;\n",
              "    }\n",
              "\n",
              "    [theme=dark] .colab-df-convert {\n",
              "      background-color: #3B4455;\n",
              "      fill: #D2E3FC;\n",
              "    }\n",
              "\n",
              "    [theme=dark] .colab-df-convert:hover {\n",
              "      background-color: #434B5C;\n",
              "      box-shadow: 0px 1px 3px 1px rgba(0, 0, 0, 0.15);\n",
              "      filter: drop-shadow(0px 1px 2px rgba(0, 0, 0, 0.3));\n",
              "      fill: #FFFFFF;\n",
              "    }\n",
              "  </style>\n",
              "\n",
              "    <script>\n",
              "      const buttonEl =\n",
              "        document.querySelector('#df-d6995685-e1d8-462d-a680-9bfa472c174e button.colab-df-convert');\n",
              "      buttonEl.style.display =\n",
              "        google.colab.kernel.accessAllowed ? 'block' : 'none';\n",
              "\n",
              "      async function convertToInteractive(key) {\n",
              "        const element = document.querySelector('#df-d6995685-e1d8-462d-a680-9bfa472c174e');\n",
              "        const dataTable =\n",
              "          await google.colab.kernel.invokeFunction('convertToInteractive',\n",
              "                                                    [key], {});\n",
              "        if (!dataTable) return;\n",
              "\n",
              "        const docLinkHtml = 'Like what you see? Visit the ' +\n",
              "          '<a target=\"_blank\" href=https://colab.research.google.com/notebooks/data_table.ipynb>data table notebook</a>'\n",
              "          + ' to learn more about interactive tables.';\n",
              "        element.innerHTML = '';\n",
              "        dataTable['output_type'] = 'display_data';\n",
              "        await google.colab.output.renderOutput(dataTable, element);\n",
              "        const docLink = document.createElement('div');\n",
              "        docLink.innerHTML = docLinkHtml;\n",
              "        element.appendChild(docLink);\n",
              "      }\n",
              "    </script>\n",
              "  </div>\n",
              "\n",
              "\n",
              "<div id=\"df-23402fc3-585d-4e24-b8c6-882adcdd6b91\">\n",
              "  <button class=\"colab-df-quickchart\" onclick=\"quickchart('df-23402fc3-585d-4e24-b8c6-882adcdd6b91')\"\n",
              "            title=\"Suggest charts\"\n",
              "            style=\"display:none;\">\n",
              "\n",
              "<svg xmlns=\"http://www.w3.org/2000/svg\" height=\"24px\"viewBox=\"0 0 24 24\"\n",
              "     width=\"24px\">\n",
              "    <g>\n",
              "        <path d=\"M19 3H5c-1.1 0-2 .9-2 2v14c0 1.1.9 2 2 2h14c1.1 0 2-.9 2-2V5c0-1.1-.9-2-2-2zM9 17H7v-7h2v7zm4 0h-2V7h2v10zm4 0h-2v-4h2v4z\"/>\n",
              "    </g>\n",
              "</svg>\n",
              "  </button>\n",
              "\n",
              "<style>\n",
              "  .colab-df-quickchart {\n",
              "      --bg-color: #E8F0FE;\n",
              "      --fill-color: #1967D2;\n",
              "      --hover-bg-color: #E2EBFA;\n",
              "      --hover-fill-color: #174EA6;\n",
              "      --disabled-fill-color: #AAA;\n",
              "      --disabled-bg-color: #DDD;\n",
              "  }\n",
              "\n",
              "  [theme=dark] .colab-df-quickchart {\n",
              "      --bg-color: #3B4455;\n",
              "      --fill-color: #D2E3FC;\n",
              "      --hover-bg-color: #434B5C;\n",
              "      --hover-fill-color: #FFFFFF;\n",
              "      --disabled-bg-color: #3B4455;\n",
              "      --disabled-fill-color: #666;\n",
              "  }\n",
              "\n",
              "  .colab-df-quickchart {\n",
              "    background-color: var(--bg-color);\n",
              "    border: none;\n",
              "    border-radius: 50%;\n",
              "    cursor: pointer;\n",
              "    display: none;\n",
              "    fill: var(--fill-color);\n",
              "    height: 32px;\n",
              "    padding: 0;\n",
              "    width: 32px;\n",
              "  }\n",
              "\n",
              "  .colab-df-quickchart:hover {\n",
              "    background-color: var(--hover-bg-color);\n",
              "    box-shadow: 0 1px 2px rgba(60, 64, 67, 0.3), 0 1px 3px 1px rgba(60, 64, 67, 0.15);\n",
              "    fill: var(--button-hover-fill-color);\n",
              "  }\n",
              "\n",
              "  .colab-df-quickchart-complete:disabled,\n",
              "  .colab-df-quickchart-complete:disabled:hover {\n",
              "    background-color: var(--disabled-bg-color);\n",
              "    fill: var(--disabled-fill-color);\n",
              "    box-shadow: none;\n",
              "  }\n",
              "\n",
              "  .colab-df-spinner {\n",
              "    border: 2px solid var(--fill-color);\n",
              "    border-color: transparent;\n",
              "    border-bottom-color: var(--fill-color);\n",
              "    animation:\n",
              "      spin 1s steps(1) infinite;\n",
              "  }\n",
              "\n",
              "  @keyframes spin {\n",
              "    0% {\n",
              "      border-color: transparent;\n",
              "      border-bottom-color: var(--fill-color);\n",
              "      border-left-color: var(--fill-color);\n",
              "    }\n",
              "    20% {\n",
              "      border-color: transparent;\n",
              "      border-left-color: var(--fill-color);\n",
              "      border-top-color: var(--fill-color);\n",
              "    }\n",
              "    30% {\n",
              "      border-color: transparent;\n",
              "      border-left-color: var(--fill-color);\n",
              "      border-top-color: var(--fill-color);\n",
              "      border-right-color: var(--fill-color);\n",
              "    }\n",
              "    40% {\n",
              "      border-color: transparent;\n",
              "      border-right-color: var(--fill-color);\n",
              "      border-top-color: var(--fill-color);\n",
              "    }\n",
              "    60% {\n",
              "      border-color: transparent;\n",
              "      border-right-color: var(--fill-color);\n",
              "    }\n",
              "    80% {\n",
              "      border-color: transparent;\n",
              "      border-right-color: var(--fill-color);\n",
              "      border-bottom-color: var(--fill-color);\n",
              "    }\n",
              "    90% {\n",
              "      border-color: transparent;\n",
              "      border-bottom-color: var(--fill-color);\n",
              "    }\n",
              "  }\n",
              "</style>\n",
              "\n",
              "  <script>\n",
              "    async function quickchart(key) {\n",
              "      const quickchartButtonEl =\n",
              "        document.querySelector('#' + key + ' button');\n",
              "      quickchartButtonEl.disabled = true;  // To prevent multiple clicks.\n",
              "      quickchartButtonEl.classList.add('colab-df-spinner');\n",
              "      try {\n",
              "        const charts = await google.colab.kernel.invokeFunction(\n",
              "            'suggestCharts', [key], {});\n",
              "      } catch (error) {\n",
              "        console.error('Error during call to suggestCharts:', error);\n",
              "      }\n",
              "      quickchartButtonEl.classList.remove('colab-df-spinner');\n",
              "      quickchartButtonEl.classList.add('colab-df-quickchart-complete');\n",
              "    }\n",
              "    (() => {\n",
              "      let quickchartButtonEl =\n",
              "        document.querySelector('#df-23402fc3-585d-4e24-b8c6-882adcdd6b91 button');\n",
              "      quickchartButtonEl.style.display =\n",
              "        google.colab.kernel.accessAllowed ? 'block' : 'none';\n",
              "    })();\n",
              "  </script>\n",
              "</div>\n",
              "\n",
              "    </div>\n",
              "  </div>\n"
            ]
          },
          "metadata": {},
          "execution_count": 102
        }
      ]
    },
    {
      "cell_type": "code",
      "source": [
        "sns.barplot(data=df_sorted, x='환자ID', y='입원기간_datetime')\n",
        "plt.title('환자ID 별 입원기간_datetime')"
      ],
      "metadata": {
        "colab": {
          "base_uri": "https://localhost:8080/",
          "height": 489
        },
        "id": "JVK-NYhAMWQ4",
        "outputId": "2041bf7d-9154-43af-d718-496ea8c66cd0"
      },
      "execution_count": 97,
      "outputs": [
        {
          "output_type": "execute_result",
          "data": {
            "text/plain": [
              "Text(0.5, 1.0, '입원기간_datetime 별 환자ID')"
            ]
          },
          "metadata": {},
          "execution_count": 97
        },
        {
          "output_type": "display_data",
          "data": {
            "text/plain": [
              "<Figure size 640x480 with 1 Axes>"
            ],
            "image/png": "[encoded data removed]"
          },
          "metadata": {}
        }
      ]
    },
    {
      "cell_type": "markdown",
      "source": [
        "### 수술 일자를 분해(월, 주, 일)하고 시각화"
      ],
      "metadata": {
        "id": "GgxOTH-QMD8B"
      }
    },
    {
      "cell_type": "markdown",
      "source": [
        "##### 수술 일자를 분해(월, 주, 일)"
      ],
      "metadata": {
        "id": "qNqJQrXrUHO4"
      }
    },
    {
      "cell_type": "code",
      "source": [
        "df_SSL['수술일자_datetime'] = pd.to_datetime(df_SSL['수술일자'], format = '%Y%m%d')\n",
        "df_SSL['수술일자_datetime_year'] = pd.to_datetime(df_SSL['수술일자_datetime']).dt.year\n",
        "df_SSL['수술일자_datetime_week'] = pd.to_datetime(df_SSL['수술일자_datetime']).dt.isocalendar().week\n",
        "df_SSL['수술일자_datetime_day'] = pd.to_datetime(df_SSL['수술일자_datetime']).dt.day"
      ],
      "metadata": {
        "id": "6uyGWEx1UGRh"
      },
      "execution_count": 144,
      "outputs": []
    },
    {
      "cell_type": "markdown",
      "source": [
        "##### 수술 일자를 시각화"
      ],
      "metadata": {
        "id": "E35pCXywUOSI"
      }
    },
    {
      "cell_type": "code",
      "source": [
        "# 수술일자_datetime_year descending by date\n",
        "year_count = sns.countplot(data=df_SSL,y='수술일자_datetime_year')\n",
        "plt.title('수술일자_datetime_year descending by date')"
      ],
      "metadata": {
        "colab": {
          "base_uri": "https://localhost:8080/",
          "height": 489
        },
        "id": "Mz21f6_SKzMx",
        "outputId": "5254e711-5bb0-4278-8871-70a4ef483bf1"
      },
      "execution_count": 109,
      "outputs": [
        {
          "output_type": "execute_result",
          "data": {
            "text/plain": [
              "Text(0.5, 1.0, '수술일자_datetime_year')"
            ]
          },
          "metadata": {},
          "execution_count": 109
        },
        {
          "output_type": "display_data",
          "data": {
            "text/plain": [
              "<Figure size 640x480 with 1 Axes>"
            ],
            "image/png": "[encoded data removed]"
          },
          "metadata": {}
        }
      ]
    },
    {
      "cell_type": "code",
      "source": [
        "# 수술일자_datetime_year descending by count\n",
        "series_datetime_year = df_SSL['수술일자_datetime_year'].value_counts()\n",
        "list_year = series_datetime_year.index.to_list()\n",
        "year_count_descending = sns.countplot(data=df_SSL,y='수술일자_datetime_year',order=list_year)\n",
        "plt.title('수술일자_datetime_year descending by count')"
      ],
      "metadata": {
        "colab": {
          "base_uri": "https://localhost:8080/",
          "height": 489
        },
        "id": "qYOntlVgRJ_I",
        "outputId": "fc18f078-4019-4a5a-987e-d42f723db43c"
      },
      "execution_count": 135,
      "outputs": [
        {
          "output_type": "execute_result",
          "data": {
            "text/plain": [
              "Text(0.5, 1.0, '수술일자_datetime_year descending by count')"
            ]
          },
          "metadata": {},
          "execution_count": 135
        },
        {
          "output_type": "display_data",
          "data": {
            "text/plain": [
              "<Figure size 640x480 with 1 Axes>"
            ],
            "image/png": "[encoded data removed]"
          },
          "metadata": {}
        }
      ]
    },
    {
      "cell_type": "code",
      "source": [
        "# 수술일자_datetime_week descending by date\n",
        "month_count = sns.countplot(data=df_SSL,y='수술일자_datetime_week')\n",
        "plt.title('수술일자_datetime_month descending by date')"
      ],
      "metadata": {
        "colab": {
          "base_uri": "https://localhost:8080/",
          "height": 489
        },
        "id": "Hzf6MFygK06A",
        "outputId": "db87f159-8bae-447f-e9f7-a81a47a10e48"
      },
      "execution_count": 146,
      "outputs": [
        {
          "output_type": "execute_result",
          "data": {
            "text/plain": [
              "Text(0.5, 1.0, '수술일자_datetime_month descending by date')"
            ]
          },
          "metadata": {},
          "execution_count": 146
        },
        {
          "output_type": "display_data",
          "data": {
            "text/plain": [
              "<Figure size 640x480 with 1 Axes>"
            ],
            "image/png": "[encoded data removed]"
          },
          "metadata": {}
        }
      ]
    },
    {
      "cell_type": "code",
      "source": [
        "# 수술일자_datetime_week descending by count\n",
        "series_datetime_week = df_SSL['수술일자_datetime_week'].value_counts()\n",
        "list_week = series_datetime_week.index.to_list()\n",
        "month_count = sns.countplot(data=df_SSL,y='수술일자_datetime_week', order=list_week)\n",
        "plt.title('수술일자_datetime_week descending by count')"
      ],
      "metadata": {
        "colab": {
          "base_uri": "https://localhost:8080/",
          "height": 489
        },
        "id": "fsDwBW73TcRw",
        "outputId": "5614fce0-da7b-4e39-c7b1-b3022c8d2bc4"
      },
      "execution_count": 149,
      "outputs": [
        {
          "output_type": "execute_result",
          "data": {
            "text/plain": [
              "Text(0.5, 1.0, '수술일자_datetime_week descending by count')"
            ]
          },
          "metadata": {},
          "execution_count": 149
        },
        {
          "output_type": "display_data",
          "data": {
            "text/plain": [
              "<Figure size 640x480 with 1 Axes>"
            ],
            "image/png": "[encoded data removed]"
          },
          "metadata": {}
        }
      ]
    },
    {
      "cell_type": "code",
      "source": [
        "# 수술일자_datetime_day descending by date\n",
        "day_count = sns.countplot(data=df_SSL,y='수술일자_datetime_day')\n",
        "plt.title('수술일자_datetime_day')"
      ],
      "metadata": {
        "colab": {
          "base_uri": "https://localhost:8080/",
          "height": 489
        },
        "id": "93suubWKLVUw",
        "outputId": "fa2388aa-4b15-4864-b5d7-60835f824ab0"
      },
      "execution_count": 139,
      "outputs": [
        {
          "output_type": "execute_result",
          "data": {
            "text/plain": [
              "Text(0.5, 1.0, '수술일자_datetime_day')"
            ]
          },
          "metadata": {},
          "execution_count": 139
        },
        {
          "output_type": "display_data",
          "data": {
            "text/plain": [
              "<Figure size 640x480 with 1 Axes>"
            ],
            "image/png": "[encoded data removed]"
          },
          "metadata": {}
        }
      ]
    },
    {
      "cell_type": "code",
      "source": [
        "# 수술일자_datetime_day descending by count\n",
        "series_datetime_day = df_SSL['수술일자_datetime_day'].value_counts()\n",
        "list_day = series_datetime_day.index.to_list()\n",
        "day_count = sns.countplot(data=df_SSL,y='수술일자_datetime_day', order=list_day)\n",
        "plt.title('수술일자_datetime_day descending by count')"
      ],
      "metadata": {
        "colab": {
          "base_uri": "https://localhost:8080/",
          "height": 489
        },
        "id": "luR2sBh_TyPA",
        "outputId": "c9854e16-aa27-4f88-dfe9-1ecd7c323be5"
      },
      "execution_count": 140,
      "outputs": [
        {
          "output_type": "execute_result",
          "data": {
            "text/plain": [
              "Text(0.5, 1.0, '수술일자_datetime_day descending by count')"
            ]
          },
          "metadata": {},
          "execution_count": 140
        },
        {
          "output_type": "display_data",
          "data": {
            "text/plain": [
              "<Figure size 640x480 with 1 Axes>"
            ],
            "image/png": "[encoded data removed]"
          },
          "metadata": {}
        }
      ]
    },
    {
      "cell_type": "code",
      "source": [],
      "metadata": {
        "id": "oYunXiu9PYeo"
      },
      "execution_count": null,
      "outputs": []
    }
  ]
}