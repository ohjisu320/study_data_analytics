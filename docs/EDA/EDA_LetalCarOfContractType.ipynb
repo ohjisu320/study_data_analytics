{
  "nbformat": 4,
  "nbformat_minor": 0,
  "metadata": {
    "colab": {
      "provenance": [],
      "authorship_tag": "ABX9TyNf73V47mfcC6QoXQWXDM+z",
      "include_colab_link": true
    },
    "kernelspec": {
      "name": "python3",
      "display_name": "Python 3"
    },
    "language_info": {
      "name": "python"
    }
  },
  "cells": [
    {
      "cell_type": "markdown",
      "metadata": {
        "id": "view-in-github",
        "colab_type": "text"
      },
      "source": [
        "<a href=\"https://colab.research.google.com/github/ohjisu320/study_data_analytics/blob/main/docs/EDA/EDA_LetalCarOfContractType.ipynb\" target=\"_parent\"><img src=\"https://colab.research.google.com/assets/colab-badge.svg\" alt=\"Open In Colab\"/></a>"
      ]
    },
    {
      "cell_type": "markdown",
      "source": [
        "## EDA 각 과정에서 insight 도출\n",
        "- 제안 6: 고객 성향에 따른 제품 추천 시스템 개발\n",
        "    - 문제 정의: 고객의 마일리지, 계약 유형, 나이 등을 분석하여 개인별 맞춤형 제품을 추천합니다.\n",
        "    - 배경: 고객의 선호도와 행동을 분석하여 맞춤형 제품을 추천함으로써, 고객 만족도를 높이고 매출 증대에 기여할 수 있습니다.\n",
        ""
      ],
      "metadata": {
        "id": "xcI3pcf4YM4r"
      }
    },
    {
      "cell_type": "markdown",
      "source": [
        "### 기술 데이터 분석(DDA)"
      ],
      "metadata": {
        "id": "oniw8rsWY1z0"
      }
    },
    {
      "cell_type": "code",
      "execution_count": 3,
      "metadata": {
        "colab": {
          "base_uri": "https://localhost:8080/"
        },
        "id": "q92YWL2wXt1Y",
        "outputId": "eae9b765-93ea-4ab8-9c1f-1a87ae25fc49"
      },
      "outputs": [
        {
          "output_type": "stream",
          "name": "stdout",
          "text": [
            "<class 'pandas.core.frame.DataFrame'>\n",
            "RangeIndex: 51304 entries, 0 to 51303\n",
            "Data columns (total 17 columns):\n",
            " #   Column             Non-Null Count  Dtype  \n",
            "---  ------             --------------  -----  \n",
            " 0   id                 51304 non-null  int64  \n",
            " 1   type_of_contract   51300 non-null  object \n",
            " 2   type_of_contract2  51303 non-null  object \n",
            " 3   channel            51304 non-null  object \n",
            " 4   datetime           51304 non-null  object \n",
            " 5   Term               51304 non-null  int64  \n",
            " 6   payment_type       51304 non-null  object \n",
            " 7   product            51303 non-null  object \n",
            " 8   amount             51304 non-null  int64  \n",
            " 9   state              51304 non-null  object \n",
            " 10  overdue_count      51304 non-null  int64  \n",
            " 11  overdue            51302 non-null  object \n",
            " 12  credit rating      42521 non-null  float64\n",
            " 13  bank               48544 non-null  object \n",
            " 14  cancellation       51279 non-null  object \n",
            " 15  age                40509 non-null  float64\n",
            " 16  Mileage            40509 non-null  float64\n",
            "dtypes: float64(3), int64(4), object(10)\n",
            "memory usage: 6.7+ MB\n"
          ]
        }
      ],
      "source": [
        "import pandas as pd\n",
        "df_LCOCT = pd.read_csv('LetalCarOfContractType.csv')\n",
        "df_LCOCT.info()"
      ]
    },
    {
      "cell_type": "code",
      "source": [
        "df_LCOCT.dropna(inplace=True)"
      ],
      "metadata": {
        "id": "WXXTX7Z-Zwd8"
      },
      "execution_count": 5,
      "outputs": []
    },
    {
      "cell_type": "code",
      "source": [
        "# 계약 유형(범주형) 분포 확인\n",
        "df_LCOCT['type_of_contract'].value_counts()\n",
        "# 렌탈이 멤버십보다 10배 이상 많음 >> 대부분 고객은 렌탈 유형을 선택함.\n",
        "# 인사이트 : 렌탈 유형에 대한 고객 선호도가 높음을 반영한 -> 마케팅, 프로모션 전략을 고려할 필요 있음"
      ],
      "metadata": {
        "colab": {
          "base_uri": "https://localhost:8080/"
        },
        "id": "3BhgrHrQZ2Ab",
        "outputId": "fb93758b-f937-4579-ed14-0f0d319a3ddb"
      },
      "execution_count": 8,
      "outputs": [
        {
          "output_type": "execute_result",
          "data": {
            "text/plain": [
              "렌탈     38445\n",
              "멤버십     2035\n",
              "Name: type_of_contract, dtype: int64"
            ]
          },
          "metadata": {},
          "execution_count": 8
        }
      ]
    },
    {
      "cell_type": "code",
      "source": [
        "# 고객 연령(연속형) 분포 확인\n",
        "df_LCOCT['age'].describe()\n",
        "# 소비 고객 연령 대부분 중년층(46세 전후)에 모여 있음\n",
        "# 인사이트 : 한정된 연령대 소비자가 있으므로, 소비자 층을 넓히기 위한 프로모션 전략 수립 필요"
      ],
      "metadata": {
        "colab": {
          "base_uri": "https://localhost:8080/"
        },
        "id": "FH7IiSGPfI0k",
        "outputId": "5d82868d-851d-4969-a4b0-7d9c41b252b7"
      },
      "execution_count": 9,
      "outputs": [
        {
          "output_type": "execute_result",
          "data": {
            "text/plain": [
              "count    40480.000000\n",
              "mean        46.610944\n",
              "std         13.464950\n",
              "min         20.000000\n",
              "25%         37.000000\n",
              "50%         46.000000\n",
              "75%         56.000000\n",
              "max        107.000000\n",
              "Name: age, dtype: float64"
            ]
          },
          "metadata": {},
          "execution_count": 9
        }
      ]
    },
    {
      "cell_type": "code",
      "source": [
        "# 마일리지 분포 확인\n",
        "df_LCOCT['Mileage'].describe()\n",
        "# 평균 마일리지는 약  1967.97이며, 대부분이 Q1과 3 이하며 최소 872이고 최대 3803 사이 분포\n",
        "# 인사이트 : 고객 마일리지 사용 패턴을 분석해 로열티 프로그램을 보다 많이 개발 활용"
      ],
      "metadata": {
        "colab": {
          "base_uri": "https://localhost:8080/"
        },
        "id": "W5vvDxKdh2V0",
        "outputId": "62330389-7e80-49be-acc6-0a9827486e64"
      },
      "execution_count": 11,
      "outputs": [
        {
          "output_type": "execute_result",
          "data": {
            "text/plain": [
              "count    40480.000000\n",
              "mean      1967.974753\n",
              "std        436.694248\n",
              "min        872.000000\n",
              "25%       1646.750000\n",
              "50%       1946.000000\n",
              "75%       2263.000000\n",
              "max       3803.000000\n",
              "Name: Mileage, dtype: float64"
            ]
          },
          "metadata": {},
          "execution_count": 11
        }
      ]
    },
    {
      "cell_type": "markdown",
      "source": [
        "### EDA\n",
        "- 추가 확인 및 인사이트 재조정"
      ],
      "metadata": {
        "id": "8q4qYKUTh1os"
      }
    },
    {
      "cell_type": "markdown",
      "source": [],
      "metadata": {
        "id": "br05QSbCZqqU"
      }
    },
    {
      "cell_type": "markdown",
      "source": [
        "## 보고용 insight 작성\n",
        "\n"
      ],
      "metadata": {
        "id": "Egs_ECeVYRP8"
      }
    },
    {
      "cell_type": "markdown",
      "source": [
        "- 계약 유형 별 고객 분포 인사이트\n",
        "    + 분석 결과: 대부분 고객은 렌탈 계약 유형을 선택\n",
        "    + 전략 제안: '렌탈' 계약에 대한 추가 마케팅 활동 강화. 관련 고객에 대한 맞춤형 제안을 개발해 고객 만족도 상승 필요\n",
        "- 마일리지 분포 따른 인사이트\n",
        "    + 분석 결과 : 사용 패턴이 중앙값(1646.75~2263.00)에 분포해 있음\n",
        "    + 전략 제안 : 고객 마일리지 사용 패턴을 분석해 로열티 프로그램을 개선"
      ],
      "metadata": {
        "id": "xzTWvbsFj9K1"
      }
    }
  ]
}